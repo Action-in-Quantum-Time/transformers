{
 "cells": [
  {
   "cell_type": "markdown",
   "id": "57ba42ad-9f79-42c4-8bf0-5658eb2f260e",
   "metadata": {},
   "source": [
    "# Timeseries File In/Out\n",
    "*TS utilities in Qiskit*\n",
    "\n",
    "By: Jacob Cybulski<br>\n",
    "Date: August 2023 - March 2024<br>\n",
    "Aims: The goal of this notebook is to test reading and writing of files."
   ]
  },
  {
   "cell_type": "code",
   "execution_count": 1,
   "id": "3511010f-2b7b-4ef1-898d-654c352892b5",
   "metadata": {},
   "outputs": [
    {
     "data": {
      "text/html": [
       "<style>\n",
       "table {float:left}\n",
       "</style>\n"
      ],
      "text/plain": [
       "<IPython.core.display.HTML object>"
      ]
     },
     "metadata": {},
     "output_type": "display_data"
    }
   ],
   "source": [
    "%%html\n",
    "<style>\n",
    "table {float:left}\n",
    "</style>"
   ]
  },
  {
   "cell_type": "code",
   "execution_count": 2,
   "id": "24546ecf-76e4-444a-9a05-542ffc6a73d4",
   "metadata": {},
   "outputs": [
    {
     "data": {
      "text/plain": [
       "['/home/jacob/Dropbox/Dev/Python/quantum_projects/ts/ts_qae_sidekick/utils',\n",
       " '/home/jacob/miniconda3/envs/qiskit-gpu/lib/python310.zip',\n",
       " '/home/jacob/miniconda3/envs/qiskit-gpu/lib/python3.10',\n",
       " '/home/jacob/miniconda3/envs/qiskit-gpu/lib/python3.10/lib-dynload',\n",
       " '',\n",
       " '/home/jacob/miniconda3/envs/qiskit-gpu/lib/python3.10/site-packages',\n",
       " '.',\n",
       " '..']"
      ]
     },
     "execution_count": 2,
     "metadata": {},
     "output_type": "execute_result"
    }
   ],
   "source": [
    "import sys\n",
    "sys.path.append('.')\n",
    "sys.path.append('..')\n",
    "sys.path"
   ]
  },
  {
   "cell_type": "code",
   "execution_count": 3,
   "id": "64fc6f60-0201-4f88-bc18-b006400f0f2c",
   "metadata": {},
   "outputs": [],
   "source": [
    "import matplotlib.pyplot as plt\n",
    "import numpy as np\n",
    "import pylab\n",
    "import math\n",
    "from IPython.display import clear_output\n",
    "%matplotlib inline\n",
    "\n",
    "from utils.Files import *"
   ]
  },
  {
   "cell_type": "code",
   "execution_count": 4,
   "id": "e5d8668e-64f2-43ff-96af-2c9fd50a3d0e",
   "metadata": {},
   "outputs": [],
   "source": [
    "### Sample data\n",
    "file_path='../dataset/mlm-melbourne-daily-min-temperatures.csv'\n",
    "file_path='../dataset/kaggle-DailyDelhiClimateTest.csv'\n",
    "\n",
    "### Read the file\n",
    "header, data = read_csv_file(file_path)"
   ]
  },
  {
   "cell_type": "code",
   "execution_count": 5,
   "id": "396a4683-0346-40af-9a1e-552c1753a7d4",
   "metadata": {},
   "outputs": [
    {
     "name": "stdout",
     "output_type": "stream",
     "text": [
      "date\t\tmeantemp\thumidity\twind_speed\tmeanpressure\t\n",
      "2017-01-01\t15.913\t\t85.87\t\t2.743\t\t59.0\t\t\n",
      "2017-01-02\t18.5\t\t77.222\t\t2.894\t\t1018.278\t\t\n",
      "2017-01-03\t17.111\t\t81.889\t\t4.017\t\t1018.333\t\t\n",
      "2017-01-04\t18.7\t\t70.05\t\t4.545\t\t1015.7\t\t\n",
      "2017-01-05\t18.389\t\t74.944\t\t3.3\t\t1014.333\t\t\n",
      "2017-01-06\t19.318\t\t79.318\t\t8.682\t\t1011.773\t\t\n",
      "2017-01-07\t14.708\t\t95.833\t\t10.042\t\t1011.375\t\t\n",
      "2017-01-08\t15.684\t\t83.526\t\t1.95\t\t1015.55\t\t\n",
      "2017-01-09\t14.571\t\t80.81\t\t6.543\t\t1015.952\t\t\n",
      "2017-01-10\t12.111\t\t71.944\t\t9.361\t\t1016.889\t\t\n"
     ]
    }
   ],
   "source": [
    "print(header[0], end='\\t\\t')\n",
    "[print(h, end='\\t') for h in header[1:]]\n",
    "print()\n",
    "for row in data[0:10]:\n",
    "    for d in row:\n",
    "        if type(d) == float:\n",
    "            print(np.round(d, 3), end='\\t\\t')\n",
    "        else:\n",
    "            print(d, end='\\t')\n",
    "    print()"
   ]
  },
  {
   "cell_type": "code",
   "execution_count": 6,
   "id": "2ca1e5ff-fe49-4730-910b-48710ac93d43",
   "metadata": {},
   "outputs": [
    {
     "name": "stdout",
     "output_type": "stream",
     "text": [
      "qiskit                        0.45.2\n",
      "qiskit-aer-gpu                0.13.2\n",
      "qiskit-algorithms             0.2.2\n",
      "qiskit-dynamics               0.4.3\n",
      "qiskit-finance                0.4.0\n",
      "qiskit-ibm-provider           0.6.3\n",
      "qiskit-ibm-runtime            0.11.3\n",
      "qiskit-ibmq-provider          0.20.2\n",
      "qiskit-machine-learning       0.7.1\n",
      "qiskit-nature                 0.7.1\n",
      "qiskit-optimization           0.6.0\n",
      "qiskit-qasm3-import           0.4.1\n",
      "qiskit-sphinx-theme           1.12.1\n",
      "qiskit-terra                  0.45.2\n"
     ]
    }
   ],
   "source": [
    "!pip list | grep -e qiskit"
   ]
  }
 ],
 "metadata": {
  "kernelspec": {
   "display_name": "Python 3 (ipykernel)",
   "language": "python",
   "name": "python3"
  },
  "language_info": {
   "codemirror_mode": {
    "name": "ipython",
    "version": 3
   },
   "file_extension": ".py",
   "mimetype": "text/x-python",
   "name": "python",
   "nbconvert_exporter": "python",
   "pygments_lexer": "ipython3",
   "version": "3.10.13"
  }
 },
 "nbformat": 4,
 "nbformat_minor": 5
}
