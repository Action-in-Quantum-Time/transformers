{
 "cells": [
  {
   "cell_type": "markdown",
   "id": "92426396-bb03-451f-89db-5f44073ebaeb",
   "metadata": {},
   "source": [
    "# QGraphs Data - Versions"
   ]
  },
  {
   "cell_type": "markdown",
   "id": "a2ce99e6-c25f-48a6-bafb-77edf19bc4cb",
   "metadata": {},
   "source": [
    "**V1** Commenced work on *QGraphs (QG)*\n",
    "- **V1_00 (240808)** Initial graph representation in *networkx*<br/>\n",
    "  Added an extra vertex for redirection from stop vertices\n",
    "- **V1_01 (240814)** Added mathematical formulation\n",
    "- **V1_02 (240816)** Changed representation and maths<br/>\n",
    "  Added loops for redirection from stop vertices\n",
    "- **V1_03 (240824)** Initial work on graph training in *PennyLane*\n",
    "- **V1_04 (240828)** Added KL and JSD loss/cost functions\n",
    "- **V1_05 (240901)** Added QG model creation, started training<br/>\n",
    "  As the code was getting very long, it was split into data prep and model training\n",
    "- **V1_06 (240908)** Need to recode QG input, from a single n to its binary representation\n",
    "- **V1_07 (240909)** Fixed classical and hybrid modes, improved performance, esp. with JSD\n",
    "- **V1_08 (240909)** Larger graph tested, code slightly reorganised"
   ]
  },
  {
   "cell_type": "markdown",
   "id": "403bec1a-13a8-40e8-bb51-c7650afc4e44",
   "metadata": {},
   "source": [
    "## System"
   ]
  },
  {
   "cell_type": "code",
   "execution_count": 1,
   "id": "bdd995cd-9bec-4d8d-b1ea-de0634b026e9",
   "metadata": {},
   "outputs": [
    {
     "name": "stdout",
     "output_type": "stream",
     "text": [
      "networkx                  3.3\n",
      "PennyLane                 0.36.0\n",
      "PennyLane_Lightning       0.36.0\n",
      "PennyLane_Lightning_GPU   0.36.0\n",
      "PennyLane-Rigetti         0.36.0\n",
      "torch                     2.3.1+cu121\n",
      "torchaudio                2.3.1+cu121\n",
      "torchsummary              1.5.1\n",
      "torchvision               0.18.1+cu121\n"
     ]
    }
   ],
   "source": [
    "!pip list | grep -e torch -e PennyLane -e networkx"
   ]
  }
 ],
 "metadata": {
  "kernelspec": {
   "display_name": "Python 3 (ipykernel)",
   "language": "python",
   "name": "python3"
  },
  "language_info": {
   "codemirror_mode": {
    "name": "ipython",
    "version": 3
   },
   "file_extension": ".py",
   "mimetype": "text/x-python",
   "name": "python",
   "nbconvert_exporter": "python",
   "pygments_lexer": "ipython3",
   "version": "3.11.9"
  },
  "widgets": {
   "application/vnd.jupyter.widget-state+json": {
    "state": {},
    "version_major": 2,
    "version_minor": 0
   }
  }
 },
 "nbformat": 4,
 "nbformat_minor": 5
}
