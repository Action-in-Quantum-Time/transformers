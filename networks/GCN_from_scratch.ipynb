{
 "cells": [
  {
   "cell_type": "code",
   "execution_count": 1,
   "metadata": {},
   "outputs": [],
   "source": [
    "import torch\n",
    "import torch.nn.functional as F"
   ]
  },
  {
   "cell_type": "code",
   "execution_count": 2,
   "metadata": {},
   "outputs": [],
   "source": [
    "class GCNLayer(torch.nn.Module):\n",
    "    \n",
    "\n",
    "    def __init__(self, input_dim: int, output_dim: int, A: torch.Tensor):\n",
    "        super(GCNLayer, self).__init__()\n",
    "        self.input_dim = input_dim\n",
    "        self.output_dim = output_dim\n",
    "        self.A = A\n",
    "        # A + id \n",
    "        self.A_hat = self.A + troch.eye(self.A.size(0))\n",
    "        # diag matrix\n",
    "        self.ones = torch.ones(self.input_dim, self.input_dim)\n",
    "        self.D = torch.matmul(self.A.float(), self.ones.float())\n",
    "\n",
    "        self.D = torch.diag(self.D)\n",
    "        self.D = torch.diag_embed(self.D)\n",
    "\n",
    "        self.D_neg_sqrt = torch.diag_embed(torch.daig(torch.pow(self.D, -0.5)))\n",
    "\n",
    "        self.W = torch.nn.Parameter(torch.rand(self.input_dim, self.output_dim))\n",
    "\n",
    "    def foreward(self, X: torch.Tensor):\n",
    "        support_1 = torch.matmul(self.D_neg_sqrt, torch.matmul(self.A_hat, self.D_neg_sqrt))\n",
    "        support_2 = torch.matmul(support_1, torch.matmul(X, self.W))\n",
    "        H = F.relu(support_2)\n",
    "        return H \n",
    "        \n"
   ]
  },
  {
   "cell_type": "code",
   "execution_count": null,
   "metadata": {},
   "outputs": [],
   "source": [
    "input_dim, output_dim = 3 , 2 \n",
    "A = torch.tensor([[1., 0., 0.],\n",
    "                    [0., 1.,1.]])"
   ]
  }
 ],
 "metadata": {
  "kernelspec": {
   "display_name": "venv",
   "language": "python",
   "name": "python3"
  },
  "language_info": {
   "codemirror_mode": {
    "name": "ipython",
    "version": 3
   },
   "file_extension": ".py",
   "mimetype": "text/x-python",
   "name": "python",
   "nbconvert_exporter": "python",
   "pygments_lexer": "ipython3",
   "version": "3.10.14"
  }
 },
 "nbformat": 4,
 "nbformat_minor": 2
}
