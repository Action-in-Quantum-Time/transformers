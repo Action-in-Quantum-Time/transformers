{
 "cells": [
  {
   "cell_type": "markdown",
   "id": "92426396-bb03-451f-89db-5f44073ebaeb",
   "metadata": {},
   "source": [
    "# QGraphs - A quantum model for digraph representation and navigation\n",
    "\n",
    "*This notebook explores creation and use of* ***QGgraphs (Quantum Digraphs)*** *in* ***Networkx+PennyLane+PyTorch**.*\n",
    "\n",
    "**By:** Jacob Cybulski<br>\n",
    "**Date:** August 2024<br>\n",
    "**Aims:** The goal of this notebook is to test some *Quantum Digraph (QGraphs)* features and functions.<br/>\n",
    "**Refs:**\n",
    "- Brownlee, J., 2019. <a href=\"https://machinelearningmastery.com/divergence-between-probability-distributions/\" target=\"_blank\">How to Calculate the KL Divergence for Machine Learning</a>. MachineLearningMastery.com.\n",
    "- <a href=\"https://en.wikipedia.org/wiki/Kullback%E2%80%93Leibler_divergence\" target=\"_blank\">Kullback–Leibler divergence</a>, Wikipedia.\n",
    "- <a href=\"https://en.wikipedia.org/wiki/Jensen%E2%80%93Shannon_divergence\" target=\"_blank\">Jensen-Shannon Divergence</a>, Wikipedia.\n",
    "- <a href=\"https://pytorch.org/docs/stable/generated/torch.nn.KLDivLoss.html\" target=\"_blank\">KLDivLoss</a>. PyTorch docs."
   ]
  },
  {
   "cell_type": "markdown",
   "id": "e2c08495-279f-48a7-900b-0a0e781a6d3a",
   "metadata": {},
   "source": [
    "A *QGraph* is a weighted directed graph, which excludes parallel edges (in the same direction), but allowing loops. It defines a stochastic navigation between its verteces, where the probability of taking a particular edge from a given vertex is given by the edge weight.\n",
    "\n",
    "Formally, a qgraph $G$ is defined as a weighted digraph:\n",
    "\n",
    "$$G = \\{V, E, w\\},$$\n",
    "\n",
    "where $V = \\{v\\}$ is a set of digraph vertices, $E = \\{(v_s,v_t) : v_s, v_t \\in V\\}$ is a set of directional edges, and $|V|$ being the number of vertices in $V$.<br/>\n",
    "Function $w(V, V)\\rightarrow R$ assigns weights to all edges, such that:\n",
    "\n",
    "$$w(v_s, v_t) =\n",
    "\\left\\{\n",
    "\t\\begin{array}{ll}\n",
    "\t\tp(v_t | v_s)  & \\forall_{v_s, v_t \\in V,\\;(v_s, v_t) \\in E}\\\\\n",
    "\t\t0 & \\forall_{v_s, v_t \\in V,\\;(v_s, v_t) \\notin E}\n",
    "\t\\end{array}\n",
    "\\right.\n",
    "$$\n",
    "\n",
    "where $p(v_t | v_s)$ is the probability of navigating over the edge $(v_s, v_t)$ when arrived at the source vertex $v_s$ to its target $v_t$ (including the self), and:\n",
    "\n",
    "$$\\forall_{(v_s, v_t) \\in E}\\: \\sum_{v_t} w(v_s, v_t) = 1.$$\n",
    "\n",
    "This means that every digraph vertex must have at least one outgoing link.\n",
    "\n",
    "An arbitrary weighted digraph $G = \\{V, E, w(V, V)\\}$ can be expanded to become a QGraph $G^{'} = \\{V^{'}, E^{'}, w^{'}(V^{'}, V^{'})\\}$ by adding loops to all verteces $v$ with outdegree 0, and rescaling weights to add up to 1. Now:\n",
    "\n",
    "$$\\forall_{v \\in V}\\; v \\in V^{'} \\land \\forall_{e \\in E}\\; e \\in E^{'}$$\n",
    "$$\\forall_{v_s \\in V}\\;(\\forall_{v_t \\in V}\\;(v_s, v_t) \\notin E) \\Longrightarrow (v_s, v_s) \\in E^{'} \\land w^{'}(v_s, v_s) = 1$$\n",
    "$$\\forall_{(v_s, v_t) \\in E}\\; w^{'}(v_s, v_t) = \\frac{w(v_s, v_t)}{\\sum_{(v_s, v_i) \\in E}\\; w(v_s, v_i)}$$"
   ]
  },
  {
   "cell_type": "code",
   "execution_count": 1,
   "id": "8b67dda8-203d-4d60-a13c-0e043c35e1c2",
   "metadata": {},
   "outputs": [
    {
     "data": {
      "text/plain": [
       "['/home/jacob/miniconda3/envs/pl-cuda12/lib/python311.zip',\n",
       " '/home/jacob/miniconda3/envs/pl-cuda12/lib/python3.11',\n",
       " '/home/jacob/miniconda3/envs/pl-cuda12/lib/python3.11/lib-dynload',\n",
       " '',\n",
       " '/home/jacob/miniconda3/envs/pl-cuda12/lib/python3.11/site-packages',\n",
       " '.',\n",
       " '..']"
      ]
     },
     "execution_count": 1,
     "metadata": {},
     "output_type": "execute_result"
    }
   ],
   "source": [
    "import sys\n",
    "sys.path.append('.')\n",
    "sys.path.append('..')\n",
    "sys.path"
   ]
  },
  {
   "cell_type": "code",
   "execution_count": 2,
   "id": "9fb963a7-124e-4f40-a7ae-916d3783b8b3",
   "metadata": {},
   "outputs": [],
   "source": [
    "### General libraries\n",
    "\n",
    "import matplotlib.pyplot as plt\n",
    "import matplotlib.patches as pltpat\n",
    "import pylab\n",
    "import math\n",
    "from IPython.display import clear_output\n",
    "\n",
    "from matplotlib import set_loglevel\n",
    "set_loglevel(\"error\")\n",
    "\n",
    "%matplotlib inline"
   ]
  },
  {
   "cell_type": "markdown",
   "id": "e76fe17c-1c58-499f-a9c4-1747746373c8",
   "metadata": {},
   "source": [
    "## Networkx digraph manipulation"
   ]
  },
  {
   "cell_type": "markdown",
   "id": "74bd1495-608a-4667-a019-f17635ac9efb",
   "metadata": {},
   "source": [
    "### Digraph drawing"
   ]
  },
  {
   "cell_type": "code",
   "execution_count": 3,
   "id": "4ce807cb-4b9d-4e6c-8001-6b1fa69b14bd",
   "metadata": {},
   "outputs": [],
   "source": [
    "### Draw a digraph\n",
    "def draw_digraph(G, ax=None, weight_prec=3, font_size=12):\n",
    "    pos = nx.shell_layout(G)\n",
    "    # pos = nx.kamada_kawai_layout(G)\n",
    "    # pos = nx.planar_layout(G)\n",
    "    # pos = nx.spring_layout(G)\n",
    "    # cstyle = \"arc3,rad=0.3\"\n",
    "    cstyle = \"arc3\"\n",
    "    nx.draw_networkx_nodes(G, pos, ax=ax)\n",
    "    nx.draw_networkx_labels(G, pos, font_size=font_size, ax=ax)\n",
    "    nx.draw_networkx_edges(G, pos, edge_color=\"grey\", ax=ax, connectionstyle=cstyle)"
   ]
  },
  {
   "cell_type": "code",
   "execution_count": 4,
   "id": "f64a4be6-d7ff-48c8-b31e-25e7debe40a2",
   "metadata": {},
   "outputs": [],
   "source": [
    "### Draw a weighted digraph\n",
    "def draw_weighted_digraph(G, attr_name, ax=None, weight_prec=3, font_size=12):\n",
    "    pos = nx.shell_layout(G)\n",
    "    # pos = nx.kamada_kawai_layout(G)\n",
    "    # pos = nx.planar_layout(G)\n",
    "    # pos = nx.spring_layout(G)\n",
    "    # cstyle = \"arc3,rad=0.3\"\n",
    "    cstyle = \"arc3\"\n",
    "    nx.draw_networkx_nodes(G, pos, ax=ax)\n",
    "    nx.draw_networkx_labels(G, pos, font_size=font_size, ax=ax)\n",
    "    nx.draw_networkx_edges(G, pos, edge_color=\"grey\", ax=ax, connectionstyle=cstyle)\n",
    "\n",
    "    labels = {tuple(edge) : f\"{np.round(attrs[attr_name], weight_prec)}\" for *edge, attrs in G.edges(data=True)}\n",
    "    \n",
    "    nx.draw_networkx_edge_labels(\n",
    "        G,\n",
    "        pos,\n",
    "        labels,\n",
    "        label_pos=0.35,\n",
    "        font_color=\"blue\",\n",
    "        bbox={\"alpha\": 0},\n",
    "        verticalalignment='baseline', # top, bottom, center, center_baseline\n",
    "        ax=ax,\n",
    "    )"
   ]
  },
  {
   "cell_type": "markdown",
   "id": "c88fae04-4540-429c-990d-c0c06ec7933d",
   "metadata": {},
   "source": [
    "### Digraph generation"
   ]
  },
  {
   "cell_type": "code",
   "execution_count": 5,
   "id": "cb67cedc-2cca-4a63-899a-725028588e4e",
   "metadata": {},
   "outputs": [],
   "source": [
    "from pylab import *\n",
    "import json\n",
    "import networkx as nx\n",
    "from networkx.readwrite import json_graph"
   ]
  },
  {
   "cell_type": "code",
   "execution_count": 6,
   "id": "b9512ba4-9974-4e68-ac58-5cf66121ae2b",
   "metadata": {},
   "outputs": [
    {
     "data": {
      "image/png": "[encoded data removed]",
      "text/plain": [
       "<Figure size 640x480 with 1 Axes>"
      ]
     },
     "metadata": {},
     "output_type": "display_data"
    }
   ],
   "source": [
    "### Create a random graph\n",
    "node_no = 8\n",
    "edge_p = 0.25\n",
    "g = nx.gnp_random_graph(node_no, edge_p, directed=True)\n",
    "draw_digraph(g)"
   ]
  },
  {
   "cell_type": "markdown",
   "id": "71adf8cb-30b1-47fd-b83d-8d3cadc8614b",
   "metadata": {},
   "source": [
    "### Digraph saving and loading"
   ]
  },
  {
   "cell_type": "code",
   "execution_count": 7,
   "id": "d8c21e5a-b616-4575-8c1c-7ef9de8067b1",
   "metadata": {},
   "outputs": [],
   "source": [
    "import os"
   ]
  },
  {
   "cell_type": "code",
   "execution_count": 8,
   "id": "9d9a3436-ecfd-45c2-8fad-f86ec24d6cb9",
   "metadata": {},
   "outputs": [
    {
     "name": "stdout",
     "output_type": "stream",
     "text": [
      "Saved graph in file: sample_graphs/digraph_8_0.25_v0.json\n"
     ]
    }
   ],
   "source": [
    "### Saving of a graph to a file\n",
    "def save_digraph(G, fpath, vers=0):\n",
    "    os.makedirs(os.path.dirname(fpath), exist_ok=True)\n",
    "    g_node_links = nx.node_link_data(G)\n",
    "    with open(f'{fpath}', 'w') as f:\n",
    "        json.dump(g_node_links, f)\n",
    "        f.close()\n",
    "\n",
    "vers = 0\n",
    "g_path = f'sample_graphs/digraph_{node_no}_{edge_p}_v{vers}.json'\n",
    "save_digraph(g, g_path)\n",
    "print(f'Saved graph in file: {g_path}')"
   ]
  },
  {
   "cell_type": "code",
   "execution_count": 9,
   "id": "0430f2c0-4860-4f16-ba40-70190d225d85",
   "metadata": {},
   "outputs": [
    {
     "name": "stdout",
     "output_type": "stream",
     "text": [
      "Loaded graph from file: sample_graphs/digraph_8_0.25_v5.json\n"
     ]
    },
    {
     "data": {
      "image/png": "[encoded data removed]",
      "text/plain": [
       "<Figure size 640x480 with 1 Axes>"
      ]
     },
     "metadata": {},
     "output_type": "display_data"
    }
   ],
   "source": [
    "### Loading a graph from a file\n",
    "def load_digraph(fpath):\n",
    "    if not os.path.exists(fpath):\n",
    "        print(f'*** ERROR: The digraph file does not exist or is corrupted: {fpath}')\n",
    "        return nx.null_graph()\n",
    "    else:\n",
    "        try:\n",
    "            f = open(fpath, 'r')\n",
    "        except OSError:\n",
    "            print(f'*** ERROR: Could not open/read the digraph file: {fpath}')\n",
    "            return nx.null_graph()\n",
    "        with f:\n",
    "            with open(f'{fpath}', 'r') as f:\n",
    "                G_node_links = json.load(f)\n",
    "                f.close()\n",
    "            G = nx.node_link_graph(G_node_links)\n",
    "            return G\n",
    "\n",
    "g_path = 'sample_graphs/digraph_8_0.25_v5.json'\n",
    "g_sel = load_digraph(g_path)\n",
    "draw_digraph(g_sel)\n",
    "print(f'Loaded graph from file: {g_path}')"
   ]
  },
  {
   "cell_type": "code",
   "execution_count": 10,
   "id": "1264f8ae-07b6-4001-a536-0736df187576",
   "metadata": {},
   "outputs": [
    {
     "data": {
      "text/plain": [
       "{'directed': True,\n",
       " 'multigraph': False,\n",
       " 'graph': {},\n",
       " 'nodes': [{'id': 0},\n",
       "  {'id': 1},\n",
       "  {'id': 2},\n",
       "  {'id': 3},\n",
       "  {'id': 4},\n",
       "  {'id': 5},\n",
       "  {'id': 6},\n",
       "  {'id': 7}],\n",
       " 'links': [{'source': 0, 'target': 1},\n",
       "  {'source': 0, 'target': 4},\n",
       "  {'source': 3, 'target': 2},\n",
       "  {'source': 4, 'target': 2},\n",
       "  {'source': 5, 'target': 1},\n",
       "  {'source': 5, 'target': 6},\n",
       "  {'source': 6, 'target': 3},\n",
       "  {'source': 6, 'target': 5},\n",
       "  {'source': 7, 'target': 2},\n",
       "  {'source': 7, 'target': 6}]}"
      ]
     },
     "execution_count": 10,
     "metadata": {},
     "output_type": "execute_result"
    }
   ],
   "source": [
    "nx.node_link_data(g_sel)"
   ]
  },
  {
   "cell_type": "markdown",
   "id": "bacc0151-c732-4824-a3d7-98e7d5c86235",
   "metadata": {},
   "source": [
    "### Generate a QGraph for modeling"
   ]
  },
  {
   "cell_type": "markdown",
   "id": "fee3ad4d-fb65-4c00-b564-46e759b4815f",
   "metadata": {},
   "source": [
    "***Creation of a quantum digraph includes three stages:***<br/>\n",
    "- *Converting an undirected graph to an adjacency matrix*\n",
    "- *Changing all undirected edges to weighted directed edges*\n",
    "- *Expanding a digraph to a QGraph (quantum digraph) by adding loops to stop vertices*\n",
    "\n",
    "Note that on measurement, probabilities of navigation from a vertex to all possible targets adds to 1."
   ]
  },
  {
   "cell_type": "code",
   "execution_count": 11,
   "id": "d684c5d4-8df4-4ce5-a4ba-eb12f1d7c136",
   "metadata": {},
   "outputs": [],
   "source": [
    "### Convert an adjacency of a unweighted graph to adjacency of a weighted graph\n",
    "#   Two methods of generating weights:\n",
    "#   - rand: random weights are generated\n",
    "#   - scale: existing weights are scaled\n",
    "def digraph_adj_weigh(unw_adj, method='rand'):\n",
    "    w_adj = unw_adj.copy().astype(float)\n",
    "    for r in range(unw_adj.shape[0]):\n",
    "        r_sum = sum(unw_adj[r])\n",
    "        r_nz = np.count_nonzero(unw_adj[r])\n",
    "        if r_sum != 0.0:\n",
    "            # Edges available - generate weights\n",
    "            if method == 'rand':\n",
    "                nz_weights = np.random.random(r_nz)\n",
    "            else:\n",
    "                nz_weights = np.array([num*1.0 for num in unw_adj[r] if num])\n",
    "            nz_weights /= nz_weights.sum()\n",
    "            w_no = 0\n",
    "            for c in range(unw_adj.shape[1]):\n",
    "                if unw_adj[r, c] > 0:\n",
    "                    w_adj[r, c] = nz_weights[w_no]\n",
    "                    w_no += 1\n",
    "    return w_adj\n",
    "\n",
    "### Expand a weighted digraph to eliminate vertices with out-dgree=0\n",
    "def digraph_adj_expand(w_adj):\n",
    "    exp_adj = w_adj.copy().toarray()\n",
    "    for r in range(w_adj.shape[0]):\n",
    "        r_sum = np.count_nonzero(w_adj[r].toarray())\n",
    "        if r_sum == 0:\n",
    "            # No outgoing links - create a loop\n",
    "            exp_adj[r, r] = 1.0\n",
    "    return exp_adj\n",
    "\n",
    "### Prepare a quantum digraph for quantum modeling\n",
    "#   Convert an undirected graph into QGraph\n",
    "def digraph_expanded_and_weighed(g, method='rand'):\n",
    "    g_adj = nx.adjacency_matrix(g)\n",
    "    g_adj_expanded = digraph_adj_expand(g_adj)\n",
    "    g_adj_weighed = digraph_adj_weigh(g_adj_expanded, method=method)\n",
    "    g_new = nx.DiGraph(g_adj_weighed)\n",
    "    return g_new"
   ]
  },
  {
   "cell_type": "markdown",
   "id": "3ee986d2-65d1-4fc2-9cd3-da32620f3dfb",
   "metadata": {},
   "source": [
    "### Testing generation of QGraphs"
   ]
  },
  {
   "cell_type": "code",
   "execution_count": 12,
   "id": "b0e75ab2-d93e-4d2c-94a7-f2dec91dfaa1",
   "metadata": {},
   "outputs": [
    {
     "name": "stdout",
     "output_type": "stream",
     "text": [
      "Digraph of 8 nodes and 10 edges\n"
     ]
    }
   ],
   "source": [
    "### We are going to use the previously loaded digraph g_sel\n",
    "g_sel_node_no = g_sel.number_of_nodes()\n",
    "g_sel_edge_no = g_sel.number_of_edges()\n",
    "print(f'Digraph of {g_sel_node_no} nodes and {g_sel_edge_no} edges')"
   ]
  },
  {
   "cell_type": "markdown",
   "id": "4b3ab982-981c-4a32-984e-39408ba6ab13",
   "metadata": {},
   "source": [
    "#### First let us do this step by step and observe results"
   ]
  },
  {
   "cell_type": "code",
   "execution_count": 13,
   "id": "972f0ec7-548d-4b69-9d77-fdaa606ff36b",
   "metadata": {},
   "outputs": [
    {
     "name": "stderr",
     "output_type": "stream",
     "text": [
      "/tmp/ipykernel_280988/2114991748.py:3: FutureWarning: adjacency_matrix will return a scipy.sparse array instead of a matrix in Networkx 3.0.\n",
      "  adj_sel = nx.adjacency_matrix(g_sel)\n"
     ]
    },
    {
     "data": {
      "text/plain": [
       "array([[0, 1, 0, 0, 1, 0, 0, 0],\n",
       "       [0, 0, 0, 0, 0, 0, 0, 0],\n",
       "       [0, 0, 0, 0, 0, 0, 0, 0],\n",
       "       [0, 0, 1, 0, 0, 0, 0, 0],\n",
       "       [0, 0, 1, 0, 0, 0, 0, 0],\n",
       "       [0, 1, 0, 0, 0, 0, 1, 0],\n",
       "       [0, 0, 0, 1, 0, 1, 0, 0],\n",
       "       [0, 0, 1, 0, 0, 0, 1, 0]])"
      ]
     },
     "execution_count": 13,
     "metadata": {},
     "output_type": "execute_result"
    }
   ],
   "source": [
    "### Convert a graph to an adjacency matrix\n",
    "import scipy as sci # Not used as yet\n",
    "adj_sel = nx.adjacency_matrix(g_sel)\n",
    "adj_sel.toarray()"
   ]
  },
  {
   "cell_type": "code",
   "execution_count": 14,
   "id": "300ca2e6-897f-4f2d-a8b9-0bb59b871479",
   "metadata": {},
   "outputs": [
    {
     "data": {
      "text/plain": [
       "array([[0, 1, 0, 0, 1, 0, 0, 0],\n",
       "       [0, 1, 0, 0, 0, 0, 0, 0],\n",
       "       [0, 0, 1, 0, 0, 0, 0, 0],\n",
       "       [0, 0, 1, 0, 0, 0, 0, 0],\n",
       "       [0, 0, 1, 0, 0, 0, 0, 0],\n",
       "       [0, 1, 0, 0, 0, 0, 1, 0],\n",
       "       [0, 0, 0, 1, 0, 1, 0, 0],\n",
       "       [0, 0, 1, 0, 0, 0, 1, 0]])"
      ]
     },
     "execution_count": 14,
     "metadata": {},
     "output_type": "execute_result"
    }
   ],
   "source": [
    "### Expand the digraph to eliminate stop vertices (out-degree=0)\n",
    "adj_exp = digraph_adj_expand(adj_sel)\n",
    "np.around(adj_exp, 3)"
   ]
  },
  {
   "cell_type": "code",
   "execution_count": 15,
   "id": "13e81860-e755-4d74-968c-9272cdde7e23",
   "metadata": {},
   "outputs": [
    {
     "data": {
      "text/plain": [
       "array([[0. , 0.5, 0. , 0. , 0.5, 0. , 0. , 0. ],\n",
       "       [0. , 1. , 0. , 0. , 0. , 0. , 0. , 0. ],\n",
       "       [0. , 0. , 1. , 0. , 0. , 0. , 0. , 0. ],\n",
       "       [0. , 0. , 1. , 0. , 0. , 0. , 0. , 0. ],\n",
       "       [0. , 0. , 1. , 0. , 0. , 0. , 0. , 0. ],\n",
       "       [0. , 0.5, 0. , 0. , 0. , 0. , 0.5, 0. ],\n",
       "       [0. , 0. , 0. , 0.5, 0. , 0.5, 0. , 0. ],\n",
       "       [0. , 0. , 0.5, 0. , 0. , 0. , 0.5, 0. ]])"
      ]
     },
     "execution_count": 15,
     "metadata": {},
     "output_type": "execute_result"
    }
   ],
   "source": [
    "### Generate edge probability weights (adding to 1.0)\n",
    "adj_w = digraph_adj_weigh(adj_exp, method='scale') # rand scale\n",
    "np.around(adj_w, 3)"
   ]
  },
  {
   "cell_type": "markdown",
   "id": "395c1ea9-ec7a-49dc-a888-23e691b28ec8",
   "metadata": {},
   "source": [
    "#### Now let us generate a QGraph in a single step"
   ]
  },
  {
   "cell_type": "code",
   "execution_count": 16,
   "id": "8fe6076d-dd2b-4e8b-b27f-9adf9ad9a5a6",
   "metadata": {},
   "outputs": [
    {
     "name": "stderr",
     "output_type": "stream",
     "text": [
      "/tmp/ipykernel_280988/183446805.py:37: FutureWarning: adjacency_matrix will return a scipy.sparse array instead of a matrix in Networkx 3.0.\n",
      "  g_adj = nx.adjacency_matrix(g)\n"
     ]
    },
    {
     "data": {
      "image/png": "[encoded data removed]",
      "text/plain": [
       "<Figure size 640x480 with 1 Axes>"
      ]
     },
     "metadata": {},
     "output_type": "display_data"
    }
   ],
   "source": [
    "### Test graph generation in one step\n",
    "g_new = digraph_expanded_and_weighed(g_sel, method='scale') # scale or rand\n",
    "# nx.draw(g_new, with_labels = True)\n",
    "draw_weighted_digraph(g_new, 'weight', ax=None)"
   ]
  },
  {
   "cell_type": "code",
   "execution_count": 17,
   "id": "fffaca6c-eeb6-49c9-be06-be38ee35bd58",
   "metadata": {},
   "outputs": [
    {
     "data": {
      "text/plain": [
       "{'directed': True,\n",
       " 'multigraph': False,\n",
       " 'graph': {},\n",
       " 'nodes': [{'id': 0},\n",
       "  {'id': 1},\n",
       "  {'id': 2},\n",
       "  {'id': 3},\n",
       "  {'id': 4},\n",
       "  {'id': 5},\n",
       "  {'id': 6},\n",
       "  {'id': 7}],\n",
       " 'links': [{'weight': 0.5, 'source': 0, 'target': 1},\n",
       "  {'weight': 0.5, 'source': 0, 'target': 4},\n",
       "  {'weight': 1.0, 'source': 1, 'target': 1},\n",
       "  {'weight': 1.0, 'source': 2, 'target': 2},\n",
       "  {'weight': 1.0, 'source': 3, 'target': 2},\n",
       "  {'weight': 1.0, 'source': 4, 'target': 2},\n",
       "  {'weight': 0.5, 'source': 5, 'target': 1},\n",
       "  {'weight': 0.5, 'source': 5, 'target': 6},\n",
       "  {'weight': 0.5, 'source': 6, 'target': 3},\n",
       "  {'weight': 0.5, 'source': 6, 'target': 5},\n",
       "  {'weight': 0.5, 'source': 7, 'target': 2},\n",
       "  {'weight': 0.5, 'source': 7, 'target': 6}]}"
      ]
     },
     "execution_count": 17,
     "metadata": {},
     "output_type": "execute_result"
    }
   ],
   "source": [
    "nx.node_link_data(g_new)"
   ]
  },
  {
   "cell_type": "markdown",
   "id": "c8f9e3b8-b9a7-4035-a9ac-2b1129e2a575",
   "metadata": {},
   "source": [
    "## PennyLane Implementation\n",
    "\n",
    "A QGraph $G = \\{V, E, w\\}$, with $v \\in V$ as the vertex unique numeric identifier, represents a parameterised function $f_\\theta(V) \\rightarrow V$,\n",
    "which can be realised as a quantum circuit $U(v, \\theta)$ measured projectively with observable $\\mathcal{M}$:\n",
    "\n",
    "$$\n",
    "\\begin{gather}\n",
    "    f_\\theta(v) = tr[ \\mathcal{M} U(v, \\theta)^\\dagger \\vert 0 \\rangle \\langle 0 \\vert U(v, \\theta) ],\\quad and\\\\\n",
    "    U(v, \\theta) = A(\\theta)S(v).\n",
    "\\end{gather}\n",
    "$$\n",
    "\n",
    "$S(v)$ is a feature map and $A(\\theta)$ an ansatz with trainable parameters $\\theta = (\\theta_0, \\theta_1, ..., \\theta_n)$.\n",
    "The ansatz can be trained on the graph edges $e = (v_s, v_t) \\in E$ and their weights $w(v_s, v_t)$, such that $v_s$ would be passed as the input to $U(v, \\theta)$, which is subsequently executed repeatedly to produce a distribution of possible outcomes $v_t$, each approximating the probability $p(v_t|v_s)$ aimed to approach the value of its edge weight $w(v_s, v_t)$.\n",
    "\n",
    "The circuit $U(v, \\theta)$ training can be facilitated by the loss function able to measure the difference between two probability distributions of possible paths from a particular vertex $v_s$, i.e. the observed probability distribution $P(v_s) = \\{p(v_t | v_s) : \\forall_{v_t \\in V}\\}$ of each run of $U(v_s, \\theta)$ and the expected distribution $W(v_s) = \\{w(v_s, v_t) : \\forall_{e=(v_s, v_t) \\in E}\\}$. \n",
    "The standard $L1(W(v_s), P(v_s))$ loss function could support the model training, leading to $MAE(W, P)$ cost measured between all possible vertex combinations in the probability distributions. \n",
    "However, the complexity of such a cost calculation would be $O({\\vert V \\vert} * 2^{\\vert V \\vert})$.\n",
    "\n",
    "A more suitable loss function could be *Kullback-Leibler Divergence*, stated as a function $KL(W(v_s) || P(v_s))$ representing the magnitude of our \"surprise\" when the model adopts the observed distribution $P(v_s)$ instead of the actual distribution $W(v_s)$. The $KL$ loss function for the vertex $v_s$ can be defined as follows (adapted from Brownlee 2019):\n",
    "\n",
    "$$KL(W(v_s) || P(v_s)) = \\sum_{(v_s, v_t) \\in E} w(v_s, v_t) * log(w(v_s, v_t) / p(v_t | v_s))$$\n",
    "\n",
    "Therefore, the cost (average loss) of differences between observed and expected navigations for all digraph vertices is:\n",
    "\n",
    "$$\n",
    "\\begin{array}{ll}\n",
    "    KL(W || P) \n",
    "    &=&\\frac{1}{|V|}\\sum_{v_s \\in V}\\;KL(W(v_s) || P(v_s))\\\\\n",
    "    &=&\\frac{1}{|V|}\\sum_{v_s \\in V}\\sum_{(v_s, v_t) \\in E}\\; w(v_s, v_t) * log(w(v_s, v_t) / p(v_t | v_s)) \\\\\n",
    "    &=&\\frac{1}{|V|}\\sum_{(v_s, v_t) \\in E}\\; w(v_s, v_t) * log(w(v_s, v_t) / p(v_t | v_s))\n",
    "\\end{array}\n",
    "$$\n",
    "\n",
    "For the $KL$ function to be computable, we only consider pairs of vertices $(v_s, v_t)$ that have non-zero weights $w(v_s, v_t)$ and non-zero probability $p(v_t | v_s)$. \n",
    "Also note that $KL$ ignores those vertex pairs which emerge as \"probably navigable\" during model training, but not actually connected by an edge, meaning their pairwise weight is zero. \n",
    "This leads to the more selective cost calculation, with its complexity to be only $O(|E|)$, limited by $O(|V|^2)$ in the worst case scenario.\n",
    "\n",
    "*Kullback-Leibler Divergence* is not symmetrical, i.e. $KL(W || P) \\neq KL(P || W)$, and tends to generate very large negative values. Therefore, a related *Jensen-Shannon Divergence* could be used as a replacement. $JS$ loss function can be defined as follows (adapted from Brownlee 2019):\n",
    "\n",
    "$$\n",
    "\\begin{array}{ll}\n",
    "    &&\\text{the loss function is:}\\\\\n",
    "    \\\\\n",
    "    &&for\\; M(v_s) = 0.5 * (W(v_s) + P(v_s)),\\\\\n",
    "    JS(W(v_s) || P(v_s)) \n",
    "    &=&0.5 * KL(W(v_s) || M(v_s)) + 0.5 * KL(P(v_s) || M(v_s)),\\\\\n",
    "    \\\\\n",
    "    &&\\text{and the cost (average loss) is:}\\\\\n",
    "    \\\\\n",
    "    &&for\\; M = \\frac{0.5}{|V|}\\; (W + P),\\\\\n",
    "    JS(W || P) \n",
    "    &=&\\frac{1}{|V|}\\sum_{v_s \\in V}\\;JS(W(v_s) || P(v_s))\\\\\n",
    "    &=&0.5 * \\frac{1}{|V|}\\sum_{v_s \\in V}\\;(KL(W(v_s) || M(v_s)) + KL(P(v_s) || M(v_s))) \\\\\n",
    "    &=&0.5 * (\\frac{1}{|V|}\\sum_{v_s \\in V}\\;KL(W(v_s) || M(v_s)) + \\frac{1}{|V|}\\sum_{v_s \\in V}\\;KL(P(v_s) || M(v_s))) \\\\\n",
    "    &=&0.5 * (KL(W || M) + KL(P || M))\n",
    "\\end{array}\n",
    "$$\n",
    "\n",
    "As noted by Brownlee (2019), when compared with KL divergence, $JS(W(v_s) || P(v_s))$, and consequently $JS(W || P)$, is a more useful measure for model training - it is smooth and normalized, and, when using the base-2 logarithm, its scores are in the range from 0 (identical) to 1 (maximally different).\n",
    "\n",
    "Note that in PyTorch, the class <a href=\"https://pytorch.org/docs/stable/generated/torch.nn.KLDivLoss.html\" target=\"_blank\">KLDivLoss</a> (see examples) defines the KL function, which takes as its arguments *input* (P), which is the result produced by a model (e.g. NN), and a *target* (W) which defines observations drawn from the data."
   ]
  },
  {
   "cell_type": "code",
   "execution_count": 18,
   "id": "ca611743-ef5b-49d4-80ec-bf1ee58ebbaf",
   "metadata": {},
   "outputs": [],
   "source": [
    "### PennyLane and Torch\n",
    "\n",
    "import pennylane as qml\n",
    "from pennylane import numpy as np\n",
    "import jax\n",
    "import jax.numpy as jnp\n",
    "\n",
    "# Pytorch imports\n",
    "import torch\n",
    "from torch import nn, tensor, optim\n",
    "import torchvision\n",
    "import torchvision.transforms as transforms\n",
    "from torch.utils.data import Dataset, DataLoader\n",
    "from sklearn.preprocessing import MinMaxScaler\n",
    "\n",
    "# Utils import\n",
    "from utils.Circuits import *\n",
    "\n",
    "jax.config.update(\"jax_enable_x64\", True)"
   ]
  },
  {
   "cell_type": "markdown",
   "id": "58f05aaa-5ea4-4614-a99e-3d2e30fbbc51",
   "metadata": {},
   "source": [
    "### Jensen-Shannon Divergence\n",
    "\n",
    "Refs: \n",
    "- Amin Jun + Renly Hou, <a href=\"https://discuss.pytorch.org/t/jensen-shannon-divergence/2626/9\" target=\"_blank\">JSD implementation</a>, pytorch.org\n",
    "- johnball, <a href=\"https://stats.stackexchange.com/questions/303735/jensen-shannon-divergence-for-multiple-probability-distributions\">Multiple JSD implementation</a>, stackexchange.com\n"
   ]
  },
  {
   "cell_type": "code",
   "execution_count": 19,
   "id": "1f65595a-d734-48dd-884a-980b17de2f0e",
   "metadata": {},
   "outputs": [],
   "source": [
    "### Implementation of JSD\n",
    "#   From: Amin Jun + Renly Hou: \n",
    "#         https://discuss.pytorch.org/t/jensen-shannon-divergence/2626/9\n",
    "#   Note that I am taking softmax before passing p and q to my JSD instance. \n",
    "#   Also, note that this implementation works with matrices as well, \n",
    "#   since in the beginning I’m flattening both tensors.\n",
    "#   Also, note that I’m passing log_target=True, which means the m should be in log-space. \n",
    "#   This makes the implementation slightly faster, because we’re computing the m.log() only once.\n",
    "class JSD(nn.Module):\n",
    "    def __init__(self):\n",
    "        super(JSD, self).__init__()\n",
    "        self.kl = nn.KLDivLoss(reduction='batchmean', log_target=True)\n",
    "\n",
    "    def forward(self, p: torch.tensor, q: torch.tensor):\n",
    "        p, q = p.view(-1, p.size(-1)), q.view(-1, q.size(-1))\n",
    "        m = (0.5 * (p + q)).log()\n",
    "        return 0.5 * (self.kl(m, p.log()) + self.kl(m, q.log()))\n",
    "\n",
    "### Calculates the JSD for multiple probability distributions\n",
    "#   See johnball: https://stats.stackexchange.com/questions/303735/\n",
    "#                    jensen-shannon-divergence-for-multiple-probability-distributions\n",
    "#   Also see: https://en.wikipedia.org/wiki/Jensen%E2%80%93Shannon_divergence\n",
    "class multi_JSD(nn.Module):\n",
    "    def __init__(self):\n",
    "        super(multi_JSD, self).__init__()\n",
    "        \n",
    "    # JSD function\n",
    "    def jsd(self, prob_dists):\n",
    "        weight = 1/len(prob_dists) # Set weights to be uniform\n",
    "        js_left = np.zeros(len(prob_dists[0]))  \n",
    "        js_right = 0\n",
    "        for pd in prob_dists:\n",
    "            js_left += pd * weight\n",
    "            js_right += weight * self.entropy(pd, normalize=False)\n",
    "    \n",
    "        jsd = self.entropy(js_left, normalize=False)-js_right\n",
    "        return jsd\n",
    "    \n",
    "    # Entropy function\n",
    "    def entropy(self, prob_dist, normalize=True):\n",
    "        entropy = -sum([p * math.log2(p) for p in prob_dist if p != 0])\n",
    "        if normalize:\n",
    "            max_entropy = math.log2(prob_dist.shape[0])\n",
    "            return entropy/max_entropy\n",
    "        return entropy"
   ]
  },
  {
   "cell_type": "markdown",
   "id": "7da0e42d-d554-4ebd-9acb-08b4060bd062",
   "metadata": {},
   "source": [
    "### Utilities"
   ]
  },
  {
   "cell_type": "code",
   "execution_count": 20,
   "id": "25e81a02-89b9-423e-8f5d-1f9cec1e0f24",
   "metadata": {},
   "outputs": [],
   "source": [
    "def draw_circuit(circuit, fontsize=20, style='pennylane', expansion_strategy=None, scale=None, title=None, decimals=2):\n",
    "    def _draw_circuit(*args, **kwargs):\n",
    "        nonlocal circuit, fontsize, style, expansion_strategy, scale, title\n",
    "        qml.drawer.use_style(style)\n",
    "        if expansion_strategy is None:\n",
    "            expansion_strategy = circuit.expansion_strategy\n",
    "        fig, ax = qml.draw_mpl(circuit, decimals=decimals, expansion_strategy=expansion_strategy)(*args, **kwargs)\n",
    "        if scale is not None:\n",
    "            dpi = fig.get_dpi()\n",
    "            fig.set_dpi(dpi*scale)\n",
    "        if title is not None:\n",
    "            fig.suptitle(title, fontsize=fontsize)\n",
    "        plt.show()\n",
    "    return _draw_circuit"
   ]
  },
  {
   "cell_type": "code",
   "execution_count": 21,
   "id": "a2eee29a-6e15-4926-a279-164a4762bd6b",
   "metadata": {},
   "outputs": [
    {
     "name": "stdout",
     "output_type": "stream",
     "text": [
      "[0 1 1 0 1 0 0 1]\n",
      "[0 1 0 1 1 0 0 1]\n"
     ]
    }
   ],
   "source": [
    "def digit_list(a, n_bits):\n",
    "    return np.array([int(i) for i in f'{a:0{n_bits}b}'])\n",
    "\n",
    "a = 0b01101001\n",
    "b = 0b01011001\n",
    "n_bits = 8\n",
    "\n",
    "print(digit_list(a, 8))\n",
    "print(digit_list(b, 8))"
   ]
  },
  {
   "cell_type": "markdown",
   "id": "54bc75ca-bc4a-4266-a4c6-f82e7ffe4cd9",
   "metadata": {},
   "source": [
    "### Create a qgraph circuit\n",
    "\n",
    "The qgraph circuit will be a simple QNN. A few different approaches will be tested as determined by the input encoding.\n",
    "- Simple encoding, with each vertex mapped into a qubit - requires $|V|$ qubits\n",
    "- Basis encoding, with each vertex number mapped into a binary qubit representation - requires $log_2(|V|)$ qubits"
   ]
  },
  {
   "cell_type": "code",
   "execution_count": null,
   "id": "43a8b140-e2ed-4cc1-8063-8bfd5ffbf53f",
   "metadata": {},
   "outputs": [],
   "source": [
    "### QGraph wrapper with a static data structure and variant input and weights only\n",
    "#   wires: \n",
    "def qgraph_basis(wires, n_bits, n_extra, n_layers=1, rot='Ry'):\n",
    "    def _qgraph_circ(inputs, weights):\n",
    "        # inputs: Number of vertex id bits = log2(|V|)\n",
    "        # output: size of n_latent\n",
    "        nonlocal wires, n_bits, n_extra, n_layers, rot\n",
    "        latent_wires = wires[0:n_latent]\n",
    "        trash_wires = wires[n_latent:n_latent+n_trash]\n",
    "        data_wires = latent_wires + trash_wires\n",
    "        qml.AngleEmbedding(inputs, rotation='Y', wires=data_wires)\n",
    "        if rot == 'Ry':\n",
    "            qml.BasicEntanglerLayers(weights, rotation=qml.RY, wires=wires)\n",
    "        elif rot == 'Rxyz':\n",
    "            qml.StronglyEntanglingLayers(weights, wires=wires)\n",
    "        return [qml.expval(qml.PauliZ(wires=w)) for w in latent_wires]\n",
    "        # return qml.probs(wires=latent_wires)\n",
    "    return _hybrid_qae_in\n",
    "\n",
    "def qgraph_basis_shape(n_latent, n_trash, n_extra, n_layers=1, rot='Ry'):\n",
    "    n_wires = n_latent + n_trash + n_extra\n",
    "    if rot == 'Ry':\n",
    "        shape = qml.BasicEntanglerLayers.shape(n_layers=n_layers, n_wires=n_wires)\n",
    "    elif  rot == 'Rxyz':\n",
    "        shape = qml.StronglyEntanglingLayers.shape(n_layers=n_layers, n_wires=n_wires)\n",
    "    return shape"
   ]
  },
  {
   "cell_type": "code",
   "execution_count": 20,
   "id": "f9d807b3-9aaa-4a47-a3af-b4baed793011",
   "metadata": {},
   "outputs": [
    {
     "data": {
      "image/png": "[encoded data removed]",
      "text/plain": [
       "<Figure size 300x150 with 1 Axes>"
      ]
     },
     "metadata": {},
     "output_type": "display_data"
    }
   ],
   "source": [
    "##### Just testing an arbitrary circuit creation\n",
    "\n",
    "n_qubits = 2\n",
    "dev = qml.device(\"default.qubit\", wires=n_qubits)\n",
    "\n",
    "@qml.qnode(dev)\n",
    "def qnode(inputs, weights_0, weight_1):\n",
    "    qml.RX(inputs[0], wires=0)\n",
    "    qml.RX(inputs[1], wires=1)\n",
    "    qml.Rot(*weights_0, wires=0)\n",
    "    qml.RY(weight_1, wires=1)\n",
    "    qml.CNOT(wires=[0, 1])\n",
    "    return qml.expval(qml.Z(0)), qml.expval(qml.Z(1))\n",
    "\n",
    "draw_circuit(qnode, scale=0.5)([0.5, 0.2], [0.1, 0.2, 0.3], 0.4)"
   ]
  },
  {
   "cell_type": "markdown",
   "id": "e2b12f23-d80d-4bac-a9e3-dd66d999bef6",
   "metadata": {},
   "source": [
    "## Versions"
   ]
  },
  {
   "cell_type": "markdown",
   "id": "a2ce99e6-c25f-48a6-bafb-77edf19bc4cb",
   "metadata": {},
   "source": [
    "**V1** Commenced work on *QGraphs*\n",
    "- **V1_00 (240808)** Initial graph representation in *networkx*<br/>\n",
    "  Added an extra vertex for redirection from stop vertices\n",
    "- **V1_01 (240814)** Added mathematical formulation\n",
    "- **V1_02 (240816)** Changed representation and maths<br/>\n",
    "  Added loops for redirection from stop vertices\n",
    "- **V1_03 (240824)** Initial work on graph training in *PennyLane*"
   ]
  },
  {
   "cell_type": "markdown",
   "id": "403bec1a-13a8-40e8-bb51-c7650afc4e44",
   "metadata": {},
   "source": [
    "## System"
   ]
  },
  {
   "cell_type": "code",
   "execution_count": 21,
   "id": "bdd995cd-9bec-4d8d-b1ea-de0634b026e9",
   "metadata": {},
   "outputs": [
    {
     "name": "stdout",
     "output_type": "stream",
     "text": [
      "networkx                  2.8.8\n",
      "PennyLane                 0.36.0\n",
      "PennyLane_Lightning       0.36.0\n",
      "PennyLane_Lightning_GPU   0.36.0\n",
      "PennyLane-Rigetti         0.36.0\n",
      "torch                     2.3.1+cu121\n",
      "torchaudio                2.3.1+cu121\n",
      "torchsummary              1.5.1\n",
      "torchvision               0.18.1+cu121\n"
     ]
    }
   ],
   "source": [
    "!pip list | grep -e torch -e PennyLane -e networkx"
   ]
  }
 ],
 "metadata": {
  "kernelspec": {
   "display_name": "Python 3 (ipykernel)",
   "language": "python",
   "name": "python3"
  },
  "language_info": {
   "codemirror_mode": {
    "name": "ipython",
    "version": 3
   },
   "file_extension": ".py",
   "mimetype": "text/x-python",
   "name": "python",
   "nbconvert_exporter": "python",
   "pygments_lexer": "ipython3",
   "version": "3.11.9"
  }
 },
 "nbformat": 4,
 "nbformat_minor": 5
}
