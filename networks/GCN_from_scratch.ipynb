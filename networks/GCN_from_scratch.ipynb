{
 "cells": [
  {
   "cell_type": "code",
   "execution_count": 1,
   "metadata": {},
   "outputs": [],
   "source": [
    "import torch\n",
    "import torch.nn.functional as F"
   ]
  },
  {
   "cell_type": "code",
   "execution_count": 2,
   "metadata": {},
   "outputs": [],
   "source": [
    "class GCNLayer(torch.nn.Module):\n",
    "    \n",
    "    def __init__(self, input_dim: int, output_dim: int, A: torch.Tensor):\n",
    "        super(GCNLayer, self).__init__()\n",
    "        self.input_dim = input_dim\n",
    "        self.output_dim = output_dim\n",
    "        self.A = A\n",
    "        print(f\"macierz A:{A}\")\n",
    "        # A + id \n",
    "        self.A_hat = self.A + torch.eye(self.A.size(0))\n",
    "        # diag matrix\n",
    "        self.ones = torch.ones(self.input_dim, self.input_dim)\n",
    "        self.D = torch.matmul(self.A.float(), self.ones.float())\n",
    "\n",
    "        self.D = torch.diag(self.D)\n",
    "        self.D = torch.diag_embed(self.D)\n",
    "\n",
    "        self.D_neg_sqrt = torch.diag_embed(torch.diag(torch.pow(self.D, -0.5)))\n",
    "\n",
    "        self.W = torch.nn.Parameter(torch.rand(self.input_dim, self.output_dim))\n",
    "\n",
    "    def forward(self, X: torch.Tensor):\n",
    "        support_1 = torch.matmul(self.D_neg_sqrt, torch.matmul(self.A_hat, self.D_neg_sqrt))\n",
    "        support_2 = torch.matmul(support_1, torch.matmul(X, self.W))\n",
    "        H = F.relu(support_2)\n",
    "        return H "
   ]
  },
  {
   "cell_type": "code",
   "execution_count": 3,
   "metadata": {},
   "outputs": [
    {
     "name": "stdout",
     "output_type": "stream",
     "text": [
      "macierz A:tensor([[1., 0., 0.],\n",
      "        [0., 1., 1.],\n",
      "        [0., 1., 1.]])\n",
      "tensor([[ 5.2253,  7.2303],\n",
      "        [12.2221, 16.8300],\n",
      "        [14.2978, 19.6819]], grad_fn=<ReluBackward0>)\n"
     ]
    }
   ],
   "source": [
    "A = torch.tensor([[1.,0.,0.],[0.,1.,1.],[0.,1.,1.]])\n",
    "gcn_layer = GCNLayer(3, 2, A)\n",
    "X = torch.tensor([[1.,2.,3.],[4.,5.,6.],[7.,8.,9.]])\n",
    "output = gcn_layer(X)\n",
    "print(output)"
   ]
  }
 ],
 "metadata": {
  "kernelspec": {
   "display_name": "venv",
   "language": "python",
   "name": "python3"
  },
  "language_info": {
   "codemirror_mode": {
    "name": "ipython",
    "version": 3
   },
   "file_extension": ".py",
   "mimetype": "text/x-python",
   "name": "python",
   "nbconvert_exporter": "python",
   "pygments_lexer": "ipython3",
   "version": "3.11.10"
  }
 },
 "nbformat": 4,
 "nbformat_minor": 2
}
