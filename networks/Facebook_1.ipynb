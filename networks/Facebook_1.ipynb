{
 "cells": [
  {
   "cell_type": "code",
   "execution_count": 1,
   "metadata": {},
   "outputs": [
    {
     "name": "stderr",
     "output_type": "stream",
     "text": [
      "/Users/air/Desktop/GNN/venv/lib/python3.10/site-packages/torch_geometric/data/dataset.py:238: FutureWarning: You are using `torch.load` with `weights_only=False` (the current default value), which uses the default pickle module implicitly. It is possible to construct malicious pickle data which will execute arbitrary code during unpickling (See https://github.com/pytorch/pytorch/blob/main/SECURITY.md#untrusted-models for more details). In a future release, the default value for `weights_only` will be flipped to `True`. This limits the functions that could be executed during unpickling. Arbitrary objects will no longer be allowed to be loaded via this mode unless they are explicitly allowlisted by the user via `torch.serialization.add_safe_globals`. We recommend you start setting `weights_only=True` for any use case where you don't have full control of the loaded file. Please open an issue on GitHub for any issues related to this experimental feature.\n",
      "  if osp.exists(f) and torch.load(f) != _repr(self.pre_transform):\n",
      "/Users/air/Desktop/GNN/venv/lib/python3.10/site-packages/torch_geometric/data/dataset.py:246: FutureWarning: You are using `torch.load` with `weights_only=False` (the current default value), which uses the default pickle module implicitly. It is possible to construct malicious pickle data which will execute arbitrary code during unpickling (See https://github.com/pytorch/pytorch/blob/main/SECURITY.md#untrusted-models for more details). In a future release, the default value for `weights_only` will be flipped to `True`. This limits the functions that could be executed during unpickling. Arbitrary objects will no longer be allowed to be loaded via this mode unless they are explicitly allowlisted by the user via `torch.serialization.add_safe_globals`. We recommend you start setting `weights_only=True` for any use case where you don't have full control of the loaded file. Please open an issue on GitHub for any issues related to this experimental feature.\n",
      "  if osp.exists(f) and torch.load(f) != _repr(self.pre_filter):\n",
      "/Users/air/Desktop/GNN/venv/lib/python3.10/site-packages/torch_geometric/io/fs.py:215: FutureWarning: You are using `torch.load` with `weights_only=False` (the current default value), which uses the default pickle module implicitly. It is possible to construct malicious pickle data which will execute arbitrary code during unpickling (See https://github.com/pytorch/pytorch/blob/main/SECURITY.md#untrusted-models for more details). In a future release, the default value for `weights_only` will be flipped to `True`. This limits the functions that could be executed during unpickling. Arbitrary objects will no longer be allowed to be loaded via this mode unless they are explicitly allowlisted by the user via `torch.serialization.add_safe_globals`. We recommend you start setting `weights_only=True` for any use case where you don't have full control of the loaded file. Please open an issue on GitHub for any issues related to this experimental feature.\n",
      "  return torch.load(f, map_location)\n"
     ]
    }
   ],
   "source": [
    "from torch_geometric.datasets import FacebookPagePage\n",
    "\n",
    "dataset = FacebookPagePage(root=\"./data/Facebook/\")\n",
    "data = dataset[0]"
   ]
  },
  {
   "cell_type": "code",
   "execution_count": 2,
   "metadata": {},
   "outputs": [
    {
     "name": "stdout",
     "output_type": "stream",
     "text": [
      "Number of features: 128\n",
      "Number of classes: 4\n",
      "Number of nodes: 22470\n",
      "Number of edges: 342004\n"
     ]
    }
   ],
   "source": [
    "print(f'Number of features: {dataset.num_features}')\n",
    "print(f'Number of classes: {dataset.num_classes}')\n",
    "\n",
    "print(f'Number of nodes: {data.num_nodes}')\n",
    "print(f'Number of edges: {data.num_edges}')"
   ]
  },
  {
   "cell_type": "code",
   "execution_count": 3,
   "metadata": {},
   "outputs": [],
   "source": [
    "data.train_mask = range(18000)\n",
    "data.val_mask = range(18001, 20000)\n",
    "data.test_mask = range(20001, 22470)"
   ]
  },
  {
   "cell_type": "markdown",
   "metadata": {},
   "source": [
    "# experiment 1\n",
    "\n",
    "Run 4 models for 128 features and 4 classes. 100 epochs of training.\n",
    "1. Multi Layer Perceptron (128,16,4)\n"
   ]
  },
  {
   "cell_type": "code",
   "execution_count": null,
   "metadata": {},
   "outputs": [],
   "source": [
    "from MyNN import MLP, GCN, GAT"
   ]
  },
  {
   "cell_type": "code",
   "execution_count": null,
   "metadata": {},
   "outputs": [],
   "source": [
    "mlp = MLP(dataset.num_features, 16, dataset.num_classes)\n",
    "print(mlp)\n",
    "mlp.fit(data, epochs=100)\n",
    "acc = mlp.test(data)\n",
    "print(f'MLP test accuracy: {acc*100:.2f}%')"
   ]
  },
  {
   "cell_type": "code",
   "execution_count": null,
   "metadata": {},
   "outputs": [],
   "source": [
    "gcn = GCN(dataset.num_features, 16, dataset.num_classes)\n",
    "print(gcn)\n",
    "gcn.fit(data, epochs=100)\n",
    "acc_gcn = gcn.test(data)\n",
    "print(f'GCN test accuracy: {acc_gcn*100:.2f}%')"
   ]
  },
  {
   "cell_type": "code",
   "execution_count": null,
   "metadata": {},
   "outputs": [],
   "source": [
    "from utils import visualize"
   ]
  },
  {
   "cell_type": "code",
   "execution_count": null,
   "metadata": {},
   "outputs": [],
   "source": [
    "gcn.eval()\n",
    "out = gcn(data.x, data.edge_index)\n",
    "visualize(out, color=data.y)"
   ]
  },
  {
   "cell_type": "code",
   "execution_count": null,
   "metadata": {},
   "outputs": [],
   "source": [
    "mlp.eval()\n",
    "out2 = mlp(data.x)\n",
    "visualize(out2, color=data.y)"
   ]
  },
  {
   "cell_type": "code",
   "execution_count": null,
   "metadata": {},
   "outputs": [],
   "source": [
    "gat = GAT(dataset.num_features, 16, dataset.num_classes, heads=8)\n",
    "print(gat)\n",
    "gat.fit(data, epochs=100)\n",
    "acc_gat = gat.test(data)\n",
    "print(f'GAT test accuracy: {acc_gat*100:.2f}%')"
   ]
  },
  {
   "cell_type": "code",
   "execution_count": null,
   "metadata": {},
   "outputs": [],
   "source": [
    "gat.eval()\n",
    "out3 = gat(data.x,data.edge_index)\n",
    "visualize(out3, color=data.y)"
   ]
  },
  {
   "cell_type": "code",
   "execution_count": null,
   "metadata": {},
   "outputs": [],
   "source": [
    "from utils import to_torch_data\n",
    "data2 = to_torch_data('data/edge_facebook.parquet')"
   ]
  },
  {
   "cell_type": "code",
   "execution_count": null,
   "metadata": {},
   "outputs": [],
   "source": [
    "data2\n"
   ]
  },
  {
   "cell_type": "code",
   "execution_count": null,
   "metadata": {},
   "outputs": [],
   "source": [
    "import pyarrow.parquet as pq"
   ]
  },
  {
   "cell_type": "code",
   "execution_count": null,
   "metadata": {},
   "outputs": [],
   "source": [
    "df_edges = pq.read_table('data/edge_facebook.parquet')\n",
    "df = pq.read_table('data/facebook.parquet')"
   ]
  },
  {
   "cell_type": "code",
   "execution_count": null,
   "metadata": {},
   "outputs": [],
   "source": [
    "df_e = df_edges.to_pandas()\n",
    "df = df.to_pandas()"
   ]
  },
  {
   "cell_type": "code",
   "execution_count": null,
   "metadata": {},
   "outputs": [],
   "source": [
    "import numpy as np"
   ]
  },
  {
   "cell_type": "code",
   "execution_count": null,
   "metadata": {},
   "outputs": [],
   "source": [
    "df_e = df_e.apply(lambda x: x-1, axis=1)\n",
    "\n",
    "df_x = df.drop(columns=['target','node_id']).astype(np.float32)\n",
    "df_y = df['target'].astype(np.int32)"
   ]
  },
  {
   "cell_type": "code",
   "execution_count": null,
   "metadata": {},
   "outputs": [],
   "source": [
    "import torch\n",
    "edge_index = torch.from_numpy(df_e[[\"in\",\"out\"]].to_numpy())\n",
    "x = torch.from_numpy(np.array(df_x))\n",
    "y = torch.from_numpy(np.array(df_y))\n",
    "y = y.type(torch.LongTensor)"
   ]
  },
  {
   "cell_type": "code",
   "execution_count": null,
   "metadata": {},
   "outputs": [],
   "source": [
    "from torch_geometric.data import Data\n",
    "data3 = Data(x=x, edge_index=edge_index.T, y=y)\n",
    "# for test \n",
    "data4 = Data(x=x, edge_index=data2.edge_index, y=y)"
   ]
  },
  {
   "cell_type": "code",
   "execution_count": null,
   "metadata": {},
   "outputs": [],
   "source": [
    "print(f'Number of features: {data3.num_features}')\n",
    "# print(f'Number of classes: {dataset.num_classes}')\n",
    "\n",
    "print(f'Number of nodes: {data3.num_nodes}')\n",
    "print(f'Number of edges: {data3.num_edges}')"
   ]
  },
  {
   "cell_type": "code",
   "execution_count": null,
   "metadata": {},
   "outputs": [],
   "source": [
    "print(f'Number of features: {data4.num_features}')\n",
    "# print(f'Number of classes: {dataset.num_classes}')\n",
    "\n",
    "print(f'Number of nodes: {data4.num_nodes}')\n",
    "print(f'Number of edges: {data4.num_edges}')"
   ]
  },
  {
   "cell_type": "code",
   "execution_count": null,
   "metadata": {},
   "outputs": [],
   "source": [
    "data3.train_mask = range(18000)\n",
    "data3.val_mask = range(18001, 20000)\n",
    "data3.test_mask = range(20001, 22470)\n",
    "\n",
    "data4.train_mask = range(18000)\n",
    "data4.val_mask = range(18001, 20000)\n",
    "data4.test_mask = range(20001, 22470)"
   ]
  },
  {
   "cell_type": "code",
   "execution_count": null,
   "metadata": {},
   "outputs": [],
   "source": [
    "from MyNN import MLP\n",
    "mlp = MLP(data3.num_features, 16, 2)\n",
    "print(mlp)\n",
    "mlp.fit(data3, epochs=100)\n",
    "acc = mlp.test(data3)\n",
    "print(f'MLP test accuracy: {acc*100:.2f}%')"
   ]
  },
  {
   "cell_type": "code",
   "execution_count": null,
   "metadata": {},
   "outputs": [],
   "source": [
    "from MyNN import MLP\n",
    "mlp2 = MLP(data4.num_features, 16, 2)\n",
    "print(mlp)\n",
    "mlp2.fit(data4, epochs=100)\n",
    "acc2 = mlp2.test(data4)\n",
    "print(f'MLP test accuracy: {acc2*100:.2f}%')"
   ]
  },
  {
   "cell_type": "code",
   "execution_count": null,
   "metadata": {},
   "outputs": [],
   "source": [
    "from MyNN import GCN\n",
    "gcn2 = GCN(data3.num_features, 16, 2)\n",
    "print(gcn2)\n",
    "gcn2.fit(data3, epochs=100)\n",
    "acc_gcn2 = gcn2.test(data3)\n",
    "print(f'GCN test accuracy: {acc_gcn2*100:.2f}%')"
   ]
  },
  {
   "cell_type": "code",
   "execution_count": null,
   "metadata": {},
   "outputs": [],
   "source": [
    "from MyNN import GCN\n",
    "gcn3 = GCN(data4.num_features, 16, 2)\n",
    "print(gcn3)\n",
    "gcn3.fit(data4, epochs=100)\n",
    "acc_gcn3 = gcn3.test(data4)\n",
    "print(f'GCN test accuracy: {acc_gcn3*100:.2f}%')"
   ]
  },
  {
   "cell_type": "code",
   "execution_count": null,
   "metadata": {},
   "outputs": [],
   "source": [
    "from MyNN import GAT\n",
    "gat = GAT(data3.num_features, 8, 2, heads=8)\n",
    "print(gat)\n",
    "gat.fit(data3, epochs=100)\n",
    "acc_gat = gat.test(data3)\n",
    "print(f'GAT test accuracy: {acc_gat*100:.2f}%')"
   ]
  },
  {
   "cell_type": "code",
   "execution_count": null,
   "metadata": {},
   "outputs": [],
   "source": [
    "from MyNN import GAT\n",
    "gat2 = GAT(data4.num_features, 8, 2, heads=8)\n",
    "print(gat2)\n",
    "gat2.fit(data4, epochs=100)\n",
    "acc_gat3 = gat2.test(data4)\n",
    "print(f'GAT test accuracy: {acc_gat3*100:.2f}%')"
   ]
  },
  {
   "cell_type": "code",
   "execution_count": null,
   "metadata": {},
   "outputs": [],
   "source": [
    "gcn2.eval()\n",
    "out = gcn2(data3.x, data3.edge_index)\n",
    "visualize(out, color=data3.y)"
   ]
  },
  {
   "cell_type": "code",
   "execution_count": null,
   "metadata": {},
   "outputs": [],
   "source": []
  }
 ],
 "metadata": {
  "kernelspec": {
   "display_name": "venv",
   "language": "python",
   "name": "python3"
  },
  "language_info": {
   "codemirror_mode": {
    "name": "ipython",
    "version": 3
   },
   "file_extension": ".py",
   "mimetype": "text/x-python",
   "name": "python",
   "nbconvert_exporter": "python",
   "pygments_lexer": "ipython3",
   "version": "3.10.14"
  }
 },
 "nbformat": 4,
 "nbformat_minor": 2
}
