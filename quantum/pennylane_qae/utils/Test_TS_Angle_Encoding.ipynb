{
 "cells": [
  {
   "cell_type": "markdown",
   "id": "57ba42ad-9f79-42c4-8bf0-5658eb2f260e",
   "metadata": {},
   "source": [
    "# Timeseries Angle Encoding\n",
    "*TS utilities in Qiskit*\n",
    "\n",
    "By: Jacob Cybulski<br>\n",
    "Date: August 2023 - March 2024<br>\n",
    "Aims: The goal of this notebook is to test a Angle encodong utilities."
   ]
  },
  {
   "cell_type": "markdown",
   "id": "30898899-64ff-46b5-b548-4d8c39c00f14",
   "metadata": {},
   "source": [
    "### Angle encoding\n",
    "Deltas between consecutive time series values have been angle encoded. In the context of a quibit representation (see the Figure), the encoding assumes zero to be encoded as H state, negative values to be rotations up, while positive values as rotations down. This encoding allows cumulative sequence calculations and easy value decoding upong the qubit measurements. Should there be huge voilatility in data, additional scaling has been added to shrink the region of valid angular qubit positions. "
   ]
  },
  {
   "cell_type": "markdown",
   "id": "4fae37e5-a599-4a85-bbaf-91ab91c48aba",
   "metadata": {},
   "source": [
    "<div>\n",
    "    <!--img src=\"attachment:qae_fig2_wide.png\" width=\"1000\"-->\n",
    "    <img src=\"../images/seq-value-encoding.png\" width=\"300\">\n",
    "</div>\n",
    "\n",
    "**Figure: Sequence value coding as qubit angular rotations**"
   ]
  },
  {
   "cell_type": "code",
   "execution_count": 1,
   "id": "3511010f-2b7b-4ef1-898d-654c352892b5",
   "metadata": {},
   "outputs": [
    {
     "data": {
      "text/html": [
       "<style>\n",
       "table {float:left}\n",
       "</style>\n"
      ],
      "text/plain": [
       "<IPython.core.display.HTML object>"
      ]
     },
     "metadata": {},
     "output_type": "display_data"
    }
   ],
   "source": [
    "%%html\n",
    "<style>\n",
    "table {float:left}\n",
    "</style>"
   ]
  },
  {
   "cell_type": "code",
   "execution_count": 2,
   "id": "24546ecf-76e4-444a-9a05-542ffc6a73d4",
   "metadata": {},
   "outputs": [
    {
     "data": {
      "text/plain": [
       "['/home/jacob/Dropbox/Dev/Python/quantum_projects/ts/ts_qae_sidekick/utils',\n",
       " '/home/jacob/miniconda3/envs/qiskit-gpu/lib/python310.zip',\n",
       " '/home/jacob/miniconda3/envs/qiskit-gpu/lib/python3.10',\n",
       " '/home/jacob/miniconda3/envs/qiskit-gpu/lib/python3.10/lib-dynload',\n",
       " '',\n",
       " '/home/jacob/miniconda3/envs/qiskit-gpu/lib/python3.10/site-packages',\n",
       " '.',\n",
       " '..']"
      ]
     },
     "execution_count": 2,
     "metadata": {},
     "output_type": "execute_result"
    }
   ],
   "source": [
    "import sys\n",
    "sys.path.append('.')\n",
    "sys.path.append('..')\n",
    "sys.path"
   ]
  },
  {
   "cell_type": "code",
   "execution_count": 3,
   "id": "64fc6f60-0201-4f88-bc18-b006400f0f2c",
   "metadata": {},
   "outputs": [],
   "source": [
    "import matplotlib.pyplot as plt\n",
    "import numpy as np\n",
    "import pylab\n",
    "import math\n",
    "from IPython.display import clear_output\n",
    "%matplotlib inline\n",
    "\n",
    "from utils.Angles import *"
   ]
  },
  {
   "cell_type": "code",
   "execution_count": 4,
   "id": "e5d8668e-64f2-43ff-96af-2c9fd50a3d0e",
   "metadata": {},
   "outputs": [
    {
     "name": "stdout",
     "output_type": "stream",
     "text": [
      "Encoding:\n",
      "0 -> 0.0 (π*0.0)\n",
      "0.5 -> 0.785 (π/4.002)\n",
      "0.7 -> 1.1 (π/2.856)\n",
      "0.25 -> 0.393 (π/7.994)\n",
      "1.2 -> 1.885 (π/1.667)\n",
      "-0.7 -> -1.1 (π/-2.856)\n",
      "\n",
      "Decoding:\n",
      "3.142 (π/1.0) -> 2.0\n",
      "0.0 (π*0.0) -> 0.0\n",
      "0.785 (π/4.0) -> 0.5\n",
      "-1.571 (π/-2.0) -> -1.0\n",
      "0.393 (π/8.0) -> 0.25\n",
      "-2.827 (π/-1.111) -> -1.8\n",
      "\n",
      "Normalise Encoding:\n",
      "4.712 -> 4.712\n",
      "-1.571 -> -1.571\n"
     ]
    }
   ],
   "source": [
    "### Test\n",
    "print('Encoding:')\n",
    "print_ts_relang_encode_val(0)\n",
    "print_ts_relang_encode_val(0.5)\n",
    "print_ts_relang_encode_val(0.7)\n",
    "print_ts_relang_encode_val(0.25)\n",
    "print_ts_relang_encode_val(1.2) # Out of [0..pi] range\n",
    "print_ts_relang_encode_val(-0.7) # Out of [0..pi] range\n",
    "\n",
    "print('\\nDecoding:')\n",
    "print_ts_relang_decode_val(np.pi)\n",
    "print_ts_relang_decode_val(0*np.pi)\n",
    "print_ts_relang_decode_val(np.pi/4)\n",
    "print_ts_relang_decode_val(-np.pi/2)\n",
    "print_ts_relang_decode_val(np.pi/8)\n",
    "print_ts_relang_decode_val(-0.9*np.pi) # Out of [0..pi] range\n",
    "\n",
    "print('\\nNormalise Encoding:')\n",
    "print_ts_relang_norm_val(1.5*np.pi)\n",
    "print_ts_relang_norm_val(-0.5*np.pi)\n",
    "\n"
   ]
  },
  {
   "cell_type": "code",
   "execution_count": 5,
   "id": "ebb7c6d7-6293-4801-b3c2-429d76bcd5c9",
   "metadata": {},
   "outputs": [
    {
     "name": "stdout",
     "output_type": "stream",
     "text": [
      "\n",
      "Training windows before encoding:\n",
      " [[-0.3 -0.2 -0.1  0. ]\n",
      " [ 0.1  0.2  0.3  0.4]\n",
      " [ 0.5  0.6  0.7  0.8]]\n",
      "\n",
      "Training windows after encoding:\n",
      " [[-0.9424778  -0.62831853 -0.31415927  0.        ]\n",
      " [ 0.31415927  0.62831853  0.9424778   1.25663706]\n",
      " [ 1.57079633  1.88495559  2.19911486  2.51327412]]\n",
      "\n",
      "Training windows org start:\n",
      " [-0.3  0.1  0.5]\n",
      "\n",
      "Training windows after decoding:\n",
      " [[-0.3 -0.2 -0.1  0. ]\n",
      " [ 0.1  0.2  0.3  0.4]\n",
      " [ 0.5  0.6  0.7  0.8]]\n",
      "\n",
      "Validation windows before encoding:\n",
      " [[-0.6 -0.5 -0.4 -0.3]\n",
      " [ 0.9  0.8  0.7  0.6]]\n",
      "\n",
      "Validation windows after encoding:\n",
      " [[-1.88495559 -1.57079633 -1.25663706 -0.9424778 ]\n",
      " [ 2.82743339  2.51327412  2.19911486  1.88495559]]\n",
      "\n",
      "Validation windows org start:\n",
      " [-0.6  0.9]\n",
      "\n",
      "Validation windows after decoding:\n",
      " [[-0.6 -0.5 -0.4 -0.3]\n",
      " [ 0.9  0.8  0.7  0.6]]\n"
     ]
    }
   ],
   "source": [
    "### Create some windows for training and validation\n",
    "y_train_ts = np.array([\n",
    "    [-0.3, -0.2, -0.1, 0],\n",
    "    [0.1, 0.2, 0.3, 0.4],\n",
    "    [0.5, 0.6, 0.7, 0.8]])\n",
    "\n",
    "y_valid_ts = np.array([\n",
    "    [-0.6, -0.5, -0.4, -0.3],\n",
    "    [0.9, 0.8, 0.7, 0.6]])\n",
    "\n",
    "\n",
    "### Encoding of TS windows which are \n",
    "y_train_enc, org_train_start = ts_relang_encode(y_train_ts)\n",
    "y_valid_enc, org_valid_start = ts_relang_encode(y_valid_ts)\n",
    "\n",
    "### Testing validation windows\n",
    "\n",
    "y_train_dec = ts_relang_decode(org_train_start, ts_relang_norm(y_train_enc))\n",
    "print('\\nTraining windows before encoding:\\n', y_train_ts)\n",
    "print('\\nTraining windows after encoding:\\n', y_train_enc)\n",
    "print('\\nTraining windows org start:\\n', org_train_start)\n",
    "print('\\nTraining windows after decoding:\\n', y_train_dec)\n",
    "\n",
    "y_valid_dec = ts_relang_decode(org_valid_start, y_valid_enc)\n",
    "print('\\nValidation windows before encoding:\\n', y_valid_ts)\n",
    "print('\\nValidation windows after encoding:\\n', y_valid_enc)\n",
    "print('\\nValidation windows org start:\\n', org_valid_start)\n",
    "print('\\nValidation windows after decoding:\\n', y_valid_dec)"
   ]
  },
  {
   "cell_type": "code",
   "execution_count": 6,
   "id": "2ca1e5ff-fe49-4730-910b-48710ac93d43",
   "metadata": {},
   "outputs": [
    {
     "name": "stdout",
     "output_type": "stream",
     "text": [
      "qiskit                        0.45.2\n",
      "qiskit-aer-gpu                0.13.2\n",
      "qiskit-algorithms             0.2.2\n",
      "qiskit-dynamics               0.4.3\n",
      "qiskit-finance                0.4.0\n",
      "qiskit-ibm-provider           0.6.3\n",
      "qiskit-ibm-runtime            0.11.3\n",
      "qiskit-ibmq-provider          0.20.2\n",
      "qiskit-machine-learning       0.7.1\n",
      "qiskit-nature                 0.7.1\n",
      "qiskit-optimization           0.6.0\n",
      "qiskit-qasm3-import           0.4.1\n",
      "qiskit-sphinx-theme           1.12.1\n",
      "qiskit-terra                  0.45.2\n"
     ]
    }
   ],
   "source": [
    "!pip list | grep -e qiskit"
   ]
  }
 ],
 "metadata": {
  "kernelspec": {
   "display_name": "Python 3 (ipykernel)",
   "language": "python",
   "name": "python3"
  },
  "language_info": {
   "codemirror_mode": {
    "name": "ipython",
    "version": 3
   },
   "file_extension": ".py",
   "mimetype": "text/x-python",
   "name": "python",
   "nbconvert_exporter": "python",
   "pygments_lexer": "ipython3",
   "version": "3.10.13"
  }
 },
 "nbformat": 4,
 "nbformat_minor": 5
}
