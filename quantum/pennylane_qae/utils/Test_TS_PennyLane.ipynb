{
 "cells": [
  {
   "cell_type": "markdown",
   "id": "4a1e0fb2-d5a4-4953-bb67-ea7460244ac4",
   "metadata": {},
   "source": [
    "# PennyLane Tests\n",
    "*TS utilities in* ***PennyLane***\n",
    "\n",
    "**By:** Jacob Cybulski<br>\n",
    "**Date:** August 2024<br>\n",
    "**Aims:** The goal of this notebook is to test some of the PennyLane features and functions.\n",
    "\n",
    "**References:**\n",
    "- https://docs.pennylane.ai/en/stable/introduction/interfaces.html\n",
    "- https://docs.pennylane.ai/en/stable/introduction/interfaces/torch.html\n",
    "- https://pennylane.ai/qml/glossary/circuit_ansatz/\n",
    "- https://docs.pennylane.ai/en/stable/introduction/templates.html\n",
    "- Creation of complex circuits\n",
    "  + https://pennylane.ai/qml/demos/function_fitting_qsp/\n",
    "  + https://pennylane.ai/qml/demos/tutorial_learning_few_data/"
   ]
  },
  {
   "cell_type": "markdown",
   "id": "a2a461d1-267c-457e-adda-007b1c92f339",
   "metadata": {},
   "source": [
    "## Initial settings"
   ]
  },
  {
   "cell_type": "code",
   "execution_count": 1,
   "id": "aab0ad9d-8b3a-4eac-97aa-8947f186e733",
   "metadata": {},
   "outputs": [
    {
     "data": {
      "text/html": [
       "<style>\n",
       "table {float:left}\n",
       "</style>\n"
      ],
      "text/plain": [
       "<IPython.core.display.HTML object>"
      ]
     },
     "metadata": {},
     "output_type": "display_data"
    }
   ],
   "source": [
    "%%html\n",
    "<style>\n",
    "table {float:left}\n",
    "</style>"
   ]
  },
  {
   "cell_type": "code",
   "execution_count": 2,
   "id": "7ce4f5e5-cbda-4fbf-b904-61e22e690209",
   "metadata": {},
   "outputs": [
    {
     "data": {
      "text/plain": [
       "['/home/jacob/miniconda3/envs/pl-cuda12/lib/python311.zip',\n",
       " '/home/jacob/miniconda3/envs/pl-cuda12/lib/python3.11',\n",
       " '/home/jacob/miniconda3/envs/pl-cuda12/lib/python3.11/lib-dynload',\n",
       " '',\n",
       " '/home/jacob/miniconda3/envs/pl-cuda12/lib/python3.11/site-packages',\n",
       " '.',\n",
       " '..']"
      ]
     },
     "execution_count": 2,
     "metadata": {},
     "output_type": "execute_result"
    }
   ],
   "source": [
    "import sys\n",
    "sys.path.append('.')\n",
    "sys.path.append('..')\n",
    "sys.path"
   ]
  },
  {
   "cell_type": "code",
   "execution_count": 3,
   "id": "8407d344-cbc5-4e24-9d0c-f2ee0393861d",
   "metadata": {},
   "outputs": [],
   "source": [
    "### General libraries\n",
    "\n",
    "import matplotlib.pyplot as plt\n",
    "import pylab\n",
    "import math\n",
    "from IPython.display import clear_output\n",
    "\n",
    "from matplotlib import set_loglevel\n",
    "set_loglevel(\"error\")\n",
    "\n",
    "%matplotlib inline"
   ]
  },
  {
   "cell_type": "code",
   "execution_count": 4,
   "id": "b98ff454-1389-4c01-86c6-b5c4bff5f2e9",
   "metadata": {},
   "outputs": [],
   "source": [
    "### PennyLane and Torch\n",
    "\n",
    "import pennylane as qml\n",
    "from pennylane import numpy as np\n",
    "import torch\n",
    "import jax\n",
    "import jax.numpy as jnp\n",
    "\n",
    "jax.config.update(\"jax_enable_x64\", True)"
   ]
  },
  {
   "cell_type": "markdown",
   "id": "6b908bf6-ef96-45a4-8999-7c37a963f16a",
   "metadata": {},
   "source": [
    "## Preliminary tests with PL, Jax and Torch\n",
    "\n",
    "- https://docs.pennylane.ai/en/stable/introduction/interfaces.html\n",
    "- https://docs.pennylane.ai/en/stable/introduction/interfaces/jax.html#jax-interf\n",
    "- https://docs.pennylane.ai/en/stable/introduction/interfaces/torch.html#quantum-gradients-using-pytorch"
   ]
  },
  {
   "cell_type": "markdown",
   "id": "2881d3d6-5ebe-4aab-9413-889dbb9c61e7",
   "metadata": {},
   "source": [
    "### Default interface"
   ]
  },
  {
   "cell_type": "code",
   "execution_count": 5,
   "id": "b6bf0297-42a3-4156-98e7-d90e306a87e0",
   "metadata": {},
   "outputs": [
    {
     "data": {
      "text/plain": [
       "tensor([0.9658079, 0.0341921], requires_grad=True)"
      ]
     },
     "execution_count": 5,
     "metadata": {},
     "output_type": "execute_result"
    }
   ],
   "source": [
    "### Simple circuit execution\n",
    "dev = qml.device(\"default.qubit\", wires=2)\n",
    "\n",
    "@qml.qnode(dev)\n",
    "def circuit(weights):\n",
    "    qml.RX(weights[0], wires=0)\n",
    "    qml.RY(weights[1], wires=1)\n",
    "    qml.CNOT(wires=[0, 1])\n",
    "    qml.RX(weights[2], wires=1)\n",
    "    return qml.probs(wires=1)\n",
    "\n",
    "weights = np.array([0.1, 0.2, 0.3], requires_grad=True)\n",
    "\n",
    "circuit(weights)"
   ]
  },
  {
   "cell_type": "code",
   "execution_count": 6,
   "id": "4d414d3a-5b07-4f18-89fe-4cb92e348fe9",
   "metadata": {},
   "outputs": [
    {
     "data": {
      "text/plain": [
       "tensor([[-0.04673668, -0.09442394, -0.14409127],\n",
       "        [ 0.04673668,  0.09442394,  0.14409127]], requires_grad=True)"
      ]
     },
     "execution_count": 6,
     "metadata": {},
     "output_type": "execute_result"
    }
   ],
   "source": [
    "qml.gradients.param_shift(circuit)(weights)"
   ]
  },
  {
   "cell_type": "code",
   "execution_count": 7,
   "id": "1c3db27b-aeb0-4a17-a9f5-d32466c84466",
   "metadata": {},
   "outputs": [
    {
     "data": {
      "text/plain": [
       "tensor(0.9316158, requires_grad=True)"
      ]
     },
     "execution_count": 7,
     "metadata": {},
     "output_type": "execute_result"
    }
   ],
   "source": [
    "### Differentiating gradient transforms and higher-order derivatives\n",
    "dev = qml.device(\"default.qubit\", wires=2)\n",
    "\n",
    "@qml.qnode(dev)\n",
    "def circuit(weights):\n",
    "    qml.RX(weights[0], wires=0)\n",
    "    qml.RY(weights[1], wires=1)\n",
    "    qml.CNOT(wires=[0, 1])\n",
    "    qml.RX(weights[2], wires=1)\n",
    "    return qml.expval(qml.PauliZ(1))\n",
    "\n",
    "weights = np.array([0.1, 0.2, 0.3], requires_grad=True)\n",
    "circuit(weights)"
   ]
  },
  {
   "cell_type": "code",
   "execution_count": 8,
   "id": "734fae72-c7ba-4238-ae77-83d34801c0de",
   "metadata": {},
   "outputs": [
    {
     "data": {
      "text/plain": [
       "tensor([-0.09347337, -0.18884787, -0.28818254], requires_grad=True)"
      ]
     },
     "execution_count": 8,
     "metadata": {},
     "output_type": "execute_result"
    }
   ],
   "source": [
    "qml.gradients.param_shift(circuit)(weights)  # gradient"
   ]
  },
  {
   "cell_type": "code",
   "execution_count": 9,
   "id": "2b78afc6-9b05-405a-afb2-a82e0222df80",
   "metadata": {},
   "outputs": [],
   "source": [
    "def f(weights):\n",
    "    return np.stack(qml.gradients.param_shift(circuit)(weights))"
   ]
  },
  {
   "cell_type": "code",
   "execution_count": 10,
   "id": "8ae14e4a-6e9f-4c6b-aa4c-d8e557a09bfe",
   "metadata": {},
   "outputs": [
    {
     "data": {
      "text/plain": [
       "array([[-0.9316158 ,  0.01894799,  0.0289147 ],\n",
       "       [ 0.01894799, -0.9316158 ,  0.05841749],\n",
       "       [ 0.0289147 ,  0.05841749, -0.9316158 ]])"
      ]
     },
     "execution_count": 10,
     "metadata": {},
     "output_type": "execute_result"
    }
   ],
   "source": [
    "qml.jacobian(f)(weights)  # hessian"
   ]
  },
  {
   "cell_type": "code",
   "execution_count": 11,
   "id": "5258b6b0-f4d5-4d1b-aabb-d8f28f90d396",
   "metadata": {},
   "outputs": [
    {
     "data": {
      "text/plain": [
       "array([[-0.9316158 ,  0.01894799,  0.0289147 ],\n",
       "       [ 0.01894799, -0.9316158 ,  0.05841749],\n",
       "       [ 0.0289147 ,  0.05841749, -0.9316158 ]])"
      ]
     },
     "execution_count": 11,
     "metadata": {},
     "output_type": "execute_result"
    }
   ],
   "source": [
    "### higher-order derivatives is by passing the max_diff and diff_method arguments to the QNode and by successive differentiation\n",
    "\n",
    "@qml.qnode(dev, diff_method=\"parameter-shift\", max_diff=2)\n",
    "def circuit(weights):\n",
    "    qml.RX(weights[0], wires=0)\n",
    "    qml.RY(weights[1], wires=1)\n",
    "    qml.CNOT(wires=[0, 1])\n",
    "    qml.RX(weights[2], wires=1)\n",
    "    return qml.expval(qml.PauliZ(1))\n",
    "\n",
    "weights = np.array([0.1, 0.2, 0.3], requires_grad=True)\n",
    "qml.jacobian(qml.jacobian(circuit))(weights)  # hessian"
   ]
  },
  {
   "cell_type": "markdown",
   "id": "1c152346-c5a1-4efa-86bd-a37fe4a10367",
   "metadata": {},
   "source": [
    "### Jax interface"
   ]
  },
  {
   "cell_type": "code",
   "execution_count": 12,
   "id": "48a19a6f-88e9-415d-be24-0b524569bc16",
   "metadata": {},
   "outputs": [
    {
     "data": {
      "text/plain": [
       "(Array(0.87758256, dtype=float64), Array(0.68803733, dtype=float64))"
      ]
     },
     "execution_count": 12,
     "metadata": {},
     "output_type": "execute_result"
    }
   ],
   "source": [
    "dev = qml.device('default.qubit.jax', wires=2)\n",
    "\n",
    "@qml.qnode(dev, interface='jax')\n",
    "def circuit_jax1(phi, theta):\n",
    "    qml.RX(phi[0], wires=0)\n",
    "    qml.RY(phi[1], wires=1)\n",
    "    qml.CNOT(wires=[0, 1])\n",
    "    qml.PhaseShift(theta, wires=0)\n",
    "    return qml.expval(qml.PauliZ(0)), qml.expval(qml.Hadamard(1))\n",
    "    \n",
    "phi = jnp.array([0.5, 0.1])\n",
    "theta = jnp.array(0.2)\n",
    "\n",
    "circuit_jax1(phi, theta)"
   ]
  },
  {
   "cell_type": "code",
   "execution_count": 13,
   "id": "8ae87c8b-2560-40ac-b5e2-784febec0441",
   "metadata": {},
   "outputs": [
    {
     "name": "stdout",
     "output_type": "stream",
     "text": [
      "Phi grad=[-4.79425539e-01 -6.93889390e-18], Theta grad=-3.469446951953614e-18\n"
     ]
    }
   ],
   "source": [
    "@qml.qnode(dev, interface='jax')\n",
    "def circuit_jax2(phi, theta):\n",
    "    qml.RX(phi[0], wires=0)\n",
    "    qml.RY(phi[1], wires=1)\n",
    "    qml.CNOT(wires=[0, 1])\n",
    "    qml.PhaseShift(theta, wires=0)\n",
    "    return qml.expval(qml.PauliZ(0))\n",
    "    \n",
    "grads = jax.grad(circuit_jax2, argnums=(0, 1))\n",
    "phi_grad, theta_grad = grads(phi, theta)\n",
    "print(f'Phi grad={phi_grad}, Theta grad={theta_grad}')"
   ]
  },
  {
   "cell_type": "markdown",
   "id": "f387e4b8-6cb3-4d3e-9461-fbfc68c8851f",
   "metadata": {},
   "source": [
    "### Torch interface"
   ]
  },
  {
   "cell_type": "code",
   "execution_count": 14,
   "id": "7b3cba4b-6cac-42bc-a095-9ad70b3e94ae",
   "metadata": {},
   "outputs": [
    {
     "data": {
      "text/plain": [
       "(tensor([1., 0.], dtype=torch.float64),\n",
       " tensor([1., 0.], dtype=torch.float64),\n",
       " tensor([0.9630, 0.0370], dtype=torch.float64))"
      ]
     },
     "execution_count": 14,
     "metadata": {},
     "output_type": "execute_result"
    }
   ],
   "source": [
    "shots_list = [5, 10, 1000]\n",
    "dev = qml.device('lightning.gpu', wires=2, shots=shots_list)\n",
    "\n",
    "@qml.qnode(dev, interface='torch')\n",
    "def circuit_torch1(weights):\n",
    "    qml.RX(weights[0], wires=0)\n",
    "    qml.RY(weights[1], wires=1)\n",
    "    qml.CNOT(wires=[0, 1])\n",
    "    qml.RX(weights[2], wires=1)\n",
    "    return qml.probs(wires=1)\n",
    "\n",
    "weights = np.array([0.1, 0.2, 0.3], requires_grad=True)\n",
    "circuit_torch1(weights)"
   ]
  },
  {
   "cell_type": "code",
   "execution_count": 15,
   "id": "3ac92a83-fadb-4d04-9d2b-c89c35bcee78",
   "metadata": {},
   "outputs": [],
   "source": [
    "#qml.gradients.param_shift(circuit)(weights)"
   ]
  },
  {
   "cell_type": "code",
   "execution_count": 16,
   "id": "6bab8d8e-d4fc-4261-b392-3b8731fb4951",
   "metadata": {},
   "outputs": [],
   "source": [
    "dev = qml.device('lightning.gpu', wires=2)\n",
    "\n",
    "@qml.qnode(dev, interface='torch')\n",
    "def circuit_torch2(phi, theta):\n",
    "    qml.RX(phi[0], wires=0)\n",
    "    qml.RY(phi[1], wires=1)\n",
    "    qml.CNOT(wires=[0, 1])\n",
    "    qml.PhaseShift(theta, wires=0)\n",
    "    return qml.expval(qml.PauliZ(0))\n",
    "\n",
    "phi = torch.tensor([0.5, 0.1], requires_grad=True)\n",
    "theta = torch.tensor(0.2, requires_grad=True)\n",
    "result = circuit_torch2(phi, theta)"
   ]
  },
  {
   "cell_type": "code",
   "execution_count": 17,
   "id": "cfff8f42-b720-418c-bd47-5d815a2513f9",
   "metadata": {},
   "outputs": [
    {
     "name": "stdout",
     "output_type": "stream",
     "text": [
      "Phi grad=tensor([-4.7943e-01, -1.1102e-16]), Theta grad=0.0\n"
     ]
    }
   ],
   "source": [
    "#qml.gradients.param_shift(circuit)(weights)\n",
    "result.backward()\n",
    "print(f'Phi grad={phi.grad}, Theta grad={theta.grad}')"
   ]
  },
  {
   "cell_type": "code",
   "execution_count": 18,
   "id": "df42c147-dbd0-4abb-8c39-ac1bdf19bc0e",
   "metadata": {},
   "outputs": [
    {
     "data": {
      "text/plain": [
       "tensor([-4.5398e-02, -2.7756e-17, -5.5511e-17])"
      ]
     },
     "execution_count": 18,
     "metadata": {},
     "output_type": "execute_result"
    }
   ],
   "source": [
    "@qml.qnode(dev, interface='torch')\n",
    "def circuit_torch3(weights, data):\n",
    "    qml.AmplitudeEmbedding(data, normalize=True, wires=[0, 1])\n",
    "    qml.RX(weights[0], wires=0)\n",
    "    qml.RY(weights[1], wires=1)\n",
    "    qml.CNOT(wires=[0, 1])\n",
    "    qml.PhaseShift(weights[2], wires=0)\n",
    "    return qml.expval(qml.PauliZ(0))\n",
    "\n",
    "weights = torch.tensor([0.1, 0.2, 0.3], requires_grad=True)\n",
    "data = torch.tensor([0.4741, 0.9257, 0.5541, 0.3137], requires_grad=False)\n",
    "result = circuit_torch3(weights, data)\n",
    "result.backward()\n",
    "weights.grad"
   ]
  },
  {
   "cell_type": "markdown",
   "id": "2c793c8a-69e0-4011-b96e-f57e4dbfb52a",
   "metadata": {},
   "source": [
    "### Printing circuits"
   ]
  },
  {
   "cell_type": "code",
   "execution_count": 19,
   "id": "7172aded-39aa-4f7b-9d0f-809a58b9aaf1",
   "metadata": {},
   "outputs": [
    {
     "name": "stdout",
     "output_type": "stream",
     "text": [
      "0: ──RX(0.10)─╭●───────────┤     \n",
      "1: ──RY(0.20)─╰X──RX(0.30)─┤  <Z>\n"
     ]
    }
   ],
   "source": [
    "print(qml.draw(circuit)([0.1, 0.2, 0.3]))"
   ]
  },
  {
   "cell_type": "code",
   "execution_count": 20,
   "id": "defb51b2-d0f7-4ff5-b1b3-61e9737e90c8",
   "metadata": {},
   "outputs": [
    {
     "data": {
      "image/png": "[encoded data removed]",
      "text/plain": [
       "<Figure size 300x150 with 1 Axes>"
      ]
     },
     "metadata": {},
     "output_type": "display_data"
    }
   ],
   "source": [
    "### Draw a circuit as in Qiskit\n",
    "#   Lots of styles apply, e.g. 'black_white', 'black_white_dark', 'sketch', \n",
    "#     'pennylane', 'pennylane_sketch', 'sketch_dark', 'solarized_light', 'solarized_dark', \n",
    "#     'default', we can even use 'rcParams' to redefine all attributes\n",
    "def draw_circuit(circuit, fontsize=20, style='pennylane', expansion_strategy=None, scale=None, title=None, decimals=2):\n",
    "    def _draw_circuit(*args, **kwargs):\n",
    "        nonlocal circuit, fontsize, style, expansion_strategy, scale, title\n",
    "        qml.drawer.use_style(style)\n",
    "        if expansion_strategy is None:\n",
    "            expansion_strategy = circuit.expansion_strategy\n",
    "        fig, ax = qml.draw_mpl(circuit, decimals=decimals, expansion_strategy=expansion_strategy)(*args, **kwargs)\n",
    "        if scale is not None:\n",
    "            dpi = fig.get_dpi()\n",
    "            fig.set_dpi(dpi*scale)\n",
    "        if title is not None:\n",
    "            fig.suptitle(title, fontsize=fontsize)\n",
    "        plt.show()\n",
    "    return _draw_circuit\n",
    "\n",
    "draw_circuit(circuit, scale=0.5, title='My favorite circuit', style='pennylane')([0.1, 0.2, 0.3])"
   ]
  },
  {
   "cell_type": "markdown",
   "id": "0a9920c2-d9eb-48f9-a62c-c4114bf3949f",
   "metadata": {},
   "source": [
    "## TorchLayer\n",
    "*See: https://docs.pennylane.ai/en/stable/code/api/pennylane.qnn.TorchLayer.html*\n",
    "\n",
    "### Mini-example"
   ]
  },
  {
   "cell_type": "code",
   "execution_count": 21,
   "id": "0402fa1e-5b5a-4b07-ac9b-94e72335b827",
   "metadata": {},
   "outputs": [
    {
     "data": {
      "image/png": "[encoded data removed]",
      "text/plain": [
       "<Figure size 300x150 with 1 Axes>"
      ]
     },
     "metadata": {},
     "output_type": "display_data"
    }
   ],
   "source": [
    "n_qubits = 2\n",
    "dev = qml.device(\"default.qubit\", wires=n_qubits)\n",
    "\n",
    "@qml.qnode(dev)\n",
    "def qnode(inputs, weights_0, weight_1):\n",
    "    qml.RX(inputs[0], wires=0)\n",
    "    qml.RX(inputs[1], wires=1)\n",
    "    qml.Rot(*weights_0, wires=0)\n",
    "    qml.RY(weight_1, wires=1)\n",
    "    qml.CNOT(wires=[0, 1])\n",
    "    return qml.expval(qml.Z(0)), qml.expval(qml.Z(1))\n",
    "\n",
    "draw_circuit(qnode, scale=0.5)([0.5, 0.2], [0.1, 0.2, 0.3], 0.4)"
   ]
  },
  {
   "cell_type": "code",
   "execution_count": 22,
   "id": "c7aee63d-6b43-4fe2-8bff-0fd845d7a162",
   "metadata": {},
   "outputs": [
    {
     "data": {
      "text/plain": [
       "Sequential(\n",
       "  (0): <Quantum Torch Layer: func=qnode>\n",
       "  (1): Linear(in_features=2, out_features=2, bias=True)\n",
       ")"
      ]
     },
     "execution_count": 22,
     "metadata": {},
     "output_type": "execute_result"
    }
   ],
   "source": [
    "weight_shapes = {\"weights_0\": 3, \"weight_1\": 1}\n",
    "qlayer = qml.qnn.TorchLayer(qnode, weight_shapes)\n",
    "clayer = torch.nn.Linear(2, 2)\n",
    "model = torch.nn.Sequential(qlayer, clayer)\n",
    "model"
   ]
  },
  {
   "cell_type": "markdown",
   "id": "24d204c9-c27f-4669-9da1-bf2933e178d7",
   "metadata": {},
   "source": [
    "### Calculating output shape"
   ]
  },
  {
   "cell_type": "code",
   "execution_count": 23,
   "id": "511bdb4a-89d2-412c-bed9-b114e03d84f8",
   "metadata": {},
   "outputs": [],
   "source": [
    "def output_shape(measurements, show_circuit=False, n_qubits = 2, batch_dim = 5):\n",
    "    \n",
    "    dev = qml.device(\"default.qubit\", wires=n_qubits, shots=100)\n",
    "\n",
    "    @qml.qnode(dev)\n",
    "    def qnode(inputs, weights):\n",
    "        qml.templates.AngleEmbedding(inputs, wires=range(n_qubits))\n",
    "        qml.templates.StronglyEntanglingLayers(weights, wires=range(n_qubits))\n",
    "        if len(measurements) == 1:\n",
    "            return qml.apply(measurements[0])\n",
    "        else:\n",
    "            return [qml.apply(m) for m in measurements]\n",
    "\n",
    "    weight_shapes = {\"weights\": (3, n_qubits, 3)}\n",
    "    qlayer = qml.qnn.TorchLayer(qnode, weight_shapes)\n",
    "    \n",
    "    x = torch.zeros((batch_dim, n_qubits))\n",
    "    if show_circuit:\n",
    "        return qlayer\n",
    "    else:\n",
    "        return qlayer(x).shape"
   ]
  },
  {
   "cell_type": "code",
   "execution_count": 24,
   "id": "df4c1bf6-780b-40cb-abca-d2326a2c187f",
   "metadata": {},
   "outputs": [
    {
     "name": "stdout",
     "output_type": "stream",
     "text": [
      "torch.Size([5])\n",
      "torch.Size([5, 4])\n",
      "torch.Size([5, 100, 2])\n"
     ]
    }
   ],
   "source": [
    "### Single measurements\n",
    "print(output_shape([qml.expval(qml.Z(0))]))\n",
    "print(output_shape([qml.probs(wires=[0, 1])]))\n",
    "print(output_shape([qml.sample(wires=[0, 1])]))"
   ]
  },
  {
   "cell_type": "code",
   "execution_count": 25,
   "id": "3d502dd1-f129-4ba8-8bba-d44efc2e9837",
   "metadata": {},
   "outputs": [
    {
     "name": "stdout",
     "output_type": "stream",
     "text": [
      "torch.Size([5, 5])\n",
      "torch.Size([5, 204])\n",
      "torch.Size([5, 2])\n"
     ]
    }
   ],
   "source": [
    "### Multiple measurements\n",
    "print(output_shape([qml.expval(qml.Z(0)), qml.probs(wires=[0, 1])]))\n",
    "print(output_shape([qml.probs([0, 1]), qml.sample(wires=[0, 1])]))\n",
    "print(output_shape([qml.expval(qml.Z(0)), qml.expval(qml.Z(1))]))"
   ]
  },
  {
   "cell_type": "code",
   "execution_count": 26,
   "id": "ab04d17a-6ba6-4b53-aaa2-bbde0f3d595d",
   "metadata": {},
   "outputs": [
    {
     "name": "stdout",
     "output_type": "stream",
     "text": [
      "tensor([[0., 0.],\n",
      "        [0., 0.],\n",
      "        [0., 0.],\n",
      "        [0., 0.],\n",
      "        [0., 0.]])\n"
     ]
    },
    {
     "data": {
      "image/png": "[encoded data removed]",
      "text/plain": [
       "<Figure size 910x210 with 1 Axes>"
      ]
     },
     "metadata": {},
     "output_type": "display_data"
    }
   ],
   "source": [
    "x = torch.zeros((5, 2))\n",
    "print(x)\n",
    "circ = output_shape([qml.expval(qml.Z(0)), qml.expval(qml.Z(1))], show_circuit=True, n_qubits=2)\n",
    "draw_circuit(circ, scale=0.7, expansion_strategy='device')(x)"
   ]
  },
  {
   "cell_type": "code",
   "execution_count": 27,
   "id": "fd31f0cb-1012-4935-a530-a5366acf49df",
   "metadata": {},
   "outputs": [
    {
     "data": {
      "text/plain": [
       "tensor([[-0.4200,  0.2800],\n",
       "        [-0.1400,  0.3600],\n",
       "        [-0.2400,  0.3800],\n",
       "        [-0.1400,  0.2600],\n",
       "        [-0.2400,  0.3600]], grad_fn=<ViewBackward0>)"
      ]
     },
     "execution_count": 27,
     "metadata": {},
     "output_type": "execute_result"
    }
   ],
   "source": [
    "circ(x)"
   ]
  },
  {
   "cell_type": "code",
   "execution_count": 28,
   "id": "49d81169-28c1-43ab-8bef-f43e4eccd45b",
   "metadata": {},
   "outputs": [
    {
     "data": {
      "text/plain": [
       "torch.Size([5, 2])"
      ]
     },
     "execution_count": 28,
     "metadata": {},
     "output_type": "execute_result"
    }
   ],
   "source": [
    "circ(x).shape"
   ]
  },
  {
   "cell_type": "markdown",
   "id": "0c9bc8f8-c390-447a-8c60-898187e7aa4d",
   "metadata": {},
   "source": [
    "### TorchLayer with initialisation"
   ]
  },
  {
   "cell_type": "code",
   "execution_count": 29,
   "id": "125dcb25-1ece-4947-8329-4128ec324a6b",
   "metadata": {},
   "outputs": [],
   "source": [
    "init_method = torch.nn.init.normal_"
   ]
  },
  {
   "cell_type": "code",
   "execution_count": 30,
   "id": "90679f4c-150b-419c-80d3-4f95a37ac6b0",
   "metadata": {},
   "outputs": [],
   "source": [
    "@qml.qnode(dev)\n",
    "def qnode(inputs, weights_0, weights_1, weights_2, weight_3, weight_4):\n",
    "    qml.templates.AngleEmbedding(inputs, wires=range(n_qubits))\n",
    "    qml.templates.StronglyEntanglingLayers(weights_0, wires=range(n_qubits))\n",
    "    qml.templates.BasicEntanglerLayers(weights_1, wires=range(n_qubits))\n",
    "    qml.Rot(*weights_2, wires=0)\n",
    "    qml.RY(weight_3, wires=1)\n",
    "    qml.RZ(weight_4, wires=1)\n",
    "    qml.CNOT(wires=[0, 1])\n",
    "    return qml.expval(qml.Z(0)), qml.expval(qml.Z(1))\n",
    "\n",
    "\n",
    "weight_shapes = {\n",
    "    \"weights_0\": (3, n_qubits, 3),\n",
    "    \"weights_1\": (3, n_qubits),\n",
    "    \"weights_2\": 3,\n",
    "    \"weight_3\": 1,\n",
    "    \"weight_4\": (1,),\n",
    "}\n",
    "\n",
    "init_method = {\n",
    "    \"weights_0\": torch.nn.init.normal_,\n",
    "    \"weights_1\": torch.nn.init.uniform_,\n",
    "    \"weights_2\": torch.tensor([1., 2., 3.]),\n",
    "    \"weight_3\": torch.tensor(1.),  # scalar when shape is not an iterable and is <= 1\n",
    "    \"weight_4\": torch.tensor([1.]),\n",
    "}\n",
    "\n",
    "qlayer = qml.qnn.TorchLayer(qnode, weight_shapes=weight_shapes, init_method=init_method)"
   ]
  },
  {
   "cell_type": "code",
   "execution_count": 31,
   "id": "f28d1e15-235d-4369-b34d-47fc3c627bf9",
   "metadata": {},
   "outputs": [],
   "source": [
    "### Save, when Torch model includes TorchLayer you can only save its state \n",
    "qlayer = qml.qnn.TorchLayer(qnode, weight_shapes=weight_shapes)\n",
    "clayer = torch.nn.Linear(2, 2)\n",
    "model = torch.nn.Sequential(qlayer, clayer)\n",
    "torch.save(model.state_dict(), '../xx_test_torch_layer.qnn')"
   ]
  },
  {
   "cell_type": "code",
   "execution_count": 32,
   "id": "215f8a52-9a4c-410e-ab7e-ea8872cab9b2",
   "metadata": {},
   "outputs": [
    {
     "data": {
      "text/plain": [
       "Sequential(\n",
       "  (0): <Quantum Torch Layer: func=qnode>\n",
       "  (1): Linear(in_features=2, out_features=2, bias=True)\n",
       ")"
      ]
     },
     "execution_count": 32,
     "metadata": {},
     "output_type": "execute_result"
    }
   ],
   "source": [
    "### Load the TorchLayer back\n",
    "qlayer = qml.qnn.TorchLayer(qnode, weight_shapes=weight_shapes)\n",
    "clayer = torch.nn.Linear(2, 2)\n",
    "model = torch.nn.Sequential(qlayer, clayer)\n",
    "model.load_state_dict(torch.load('../xx_test_torch_layer.qnn'))\n",
    "model.eval()"
   ]
  },
  {
   "cell_type": "markdown",
   "id": "5a902536-d682-4b64-b793-1160f179c673",
   "metadata": {},
   "source": [
    "### Full TorchLayer example"
   ]
  },
  {
   "cell_type": "markdown",
   "id": "ddf6af2d-66d9-4b1a-9bd1-52aa2d9ec588",
   "metadata": {},
   "source": [
    "*The code block below shows how a circuit composed of templates from the Templates module can be combined with classical Linear layers to learn the two-dimensional moons dataset.*"
   ]
  },
  {
   "cell_type": "code",
   "execution_count": 33,
   "id": "a940a50f-f9e3-49e0-a3cc-c8318cac95eb",
   "metadata": {},
   "outputs": [
    {
     "data": {
      "image/png": "[encoded data removed]",
      "text/plain": [
       "<Figure size 640x480 with 1 Axes>"
      ]
     },
     "metadata": {},
     "output_type": "display_data"
    }
   ],
   "source": [
    "import matplotlib.pyplot as plt\n",
    "import numpy as np\n",
    "from sklearn.datasets import make_moons\n",
    "\n",
    "# Set random seeds\n",
    "torch.manual_seed(42)\n",
    "np.random.seed(42)\n",
    "\n",
    "X, y = make_moons(n_samples=200, noise=0.1)\n",
    "y_ = torch.unsqueeze(torch.tensor(y), 1)  # used for one-hot encoded labels\n",
    "y_hot = torch.scatter(torch.zeros((200, 2)), 1, y_, 1)\n",
    "\n",
    "c = [\"#1f77b4\" if y_ == 0 else \"#ff7f0e\" for y_ in y]  # colours for each class\n",
    "plt.axis(\"off\")\n",
    "plt.scatter(X[:, 0], X[:, 1], c=c)\n",
    "plt.show()"
   ]
  },
  {
   "cell_type": "code",
   "execution_count": 34,
   "id": "b377a6d3-52c3-4d21-a9eb-c0156e478a9f",
   "metadata": {},
   "outputs": [],
   "source": [
    "X = torch.tensor(X, requires_grad=True).float()\n",
    "y_hot = y_hot.float()"
   ]
  },
  {
   "cell_type": "markdown",
   "id": "1d673a55-454f-40c3-803a-6c1602869a8c",
   "metadata": {},
   "source": [
    "#### BasicEntanglerLayers"
   ]
  },
  {
   "cell_type": "code",
   "execution_count": 35,
   "id": "e14a45a7-5b57-4805-bf37-1d51addc7a41",
   "metadata": {},
   "outputs": [],
   "source": [
    "### Create a simple circuit\n",
    "\n",
    "import pennylane as qml\n",
    "\n",
    "n_qubits = 2\n",
    "dev = qml.device(\"default.qubit\", wires=n_qubits)\n",
    "\n",
    "@qml.qnode(dev)\n",
    "def qnode(inputs, weights):\n",
    "    qml.AngleEmbedding(inputs, wires=range(n_qubits))\n",
    "    qml.BasicEntanglerLayers(weights, wires=range(n_qubits))\n",
    "    return [qml.expval(qml.PauliZ(wires=i)) for i in range(n_qubits)]"
   ]
  },
  {
   "cell_type": "code",
   "execution_count": 38,
   "id": "64bac862-e49f-47c5-a9e6-f79b5c3b3304",
   "metadata": {},
   "outputs": [
    {
     "data": {
      "text/plain": [
       "Sequential(\n",
       "  (0): Linear(in_features=2, out_features=2, bias=True)\n",
       "  (1): <Quantum Torch Layer: func=qnode>\n",
       "  (2): Linear(in_features=2, out_features=2, bias=True)\n",
       "  (3): Softmax(dim=1)\n",
       ")"
      ]
     },
     "execution_count": 38,
     "metadata": {},
     "output_type": "execute_result"
    }
   ],
   "source": [
    "### Now create a Torch model with TorchLayer\n",
    "\n",
    "n_layers = 6\n",
    "weight_shapes = {\"weights\": (n_layers, n_qubits)}\n",
    "\n",
    "qlayer = qml.qnn.TorchLayer(qnode, weight_shapes)\n",
    "clayer_1 = torch.nn.Linear(2, 2)\n",
    "clayer_2 = torch.nn.Linear(2, 2)\n",
    "softmax = torch.nn.Softmax(dim=1)\n",
    "layers = [clayer_1, qlayer, clayer_2, softmax]\n",
    "model = torch.nn.Sequential(*layers)\n",
    "model"
   ]
  },
  {
   "cell_type": "code",
   "execution_count": 39,
   "id": "a30bb6ba-e16a-4adf-9cd4-e05467d8c887",
   "metadata": {},
   "outputs": [],
   "source": [
    "### Select optimizer and loss function\n",
    "\n",
    "opt = torch.optim.SGD(model.parameters(), lr=0.2)\n",
    "loss = torch.nn.L1Loss()"
   ]
  },
  {
   "cell_type": "code",
   "execution_count": 40,
   "id": "4d925c8d-58ac-489b-9605-300a0a385f05",
   "metadata": {},
   "outputs": [
    {
     "name": "stdout",
     "output_type": "stream",
     "text": [
      "Average loss over epoch 1: 0.4337\n",
      "Average loss over epoch 2: 0.2627\n",
      "Average loss over epoch 3: 0.1995\n",
      "Average loss over epoch 4: 0.1787\n",
      "Average loss over epoch 5: 0.1689\n",
      "Average loss over epoch 6: 0.1606\n",
      "Average loss over epoch 7: 0.1513\n",
      "Average loss over epoch 8: 0.1593\n",
      "Average loss over epoch 9: 0.1547\n",
      "Average loss over epoch 10: 0.1536\n",
      "Accuracy: 85.0%\n"
     ]
    }
   ],
   "source": [
    "### Train the model\n",
    "\n",
    "batch_size = 5\n",
    "batches = 200 // batch_size\n",
    "\n",
    "data_loader = torch.utils.data.DataLoader(\n",
    "    list(zip(X, y_hot)), batch_size=5, shuffle=True, drop_last=True\n",
    ")\n",
    "\n",
    "epochs = 10\n",
    "\n",
    "for epoch in range(epochs):\n",
    "\n",
    "    running_loss = 0\n",
    "\n",
    "    for xs, ys in data_loader:\n",
    "        opt.zero_grad()\n",
    "\n",
    "        loss_evaluated = loss(model(xs), ys)\n",
    "        loss_evaluated.backward()\n",
    "\n",
    "        opt.step()\n",
    "\n",
    "        running_loss += loss_evaluated\n",
    "\n",
    "    avg_loss = running_loss / batches\n",
    "    print(\"Average loss over epoch {}: {:.4f}\".format(epoch + 1, avg_loss))\n",
    "\n",
    "y_pred = model(X)\n",
    "predictions = torch.argmax(y_pred, axis=1).detach().numpy()\n",
    "\n",
    "correct = [1 if p == p_true else 0 for p, p_true in zip(predictions, y)]\n",
    "accuracy = sum(correct) / len(correct)\n",
    "print(f\"Accuracy: {accuracy * 100}%\")"
   ]
  },
  {
   "cell_type": "markdown",
   "id": "036685da-a75c-40d1-9a62-818922f12965",
   "metadata": {},
   "source": [
    "#### The same with StronglyEntanglingLayers"
   ]
  },
  {
   "cell_type": "code",
   "execution_count": 81,
   "id": "7dde1b27-04d1-462c-ad15-c9ac8f760727",
   "metadata": {},
   "outputs": [],
   "source": [
    "### Prepare the model\n",
    "\n",
    "n_qubits = 2\n",
    "dev = qml.device(\"default.qubit\", wires=n_qubits)\n",
    "\n",
    "@qml.qnode(dev)\n",
    "def qnode(inputs, weights):\n",
    "    qml.AngleEmbedding(inputs, wires=range(n_qubits))\n",
    "    qml.StronglyEntanglingLayers(weights, wires=range(n_qubits))\n",
    "    return [qml.expval(qml.PauliZ(wires=i)) for i in range(n_qubits)]\n",
    "    #return qml.expval(qml.Z(0)), qml.expval(qml.Z(1))\n",
    "\n",
    "n_layers = 6\n",
    "weight_shapes = {\"weights\": (n_layers, n_qubits, 3)}\n",
    "\n",
    "qlayer = qml.qnn.TorchLayer(qnode, weight_shapes)\n",
    "clayer1 = torch.nn.Linear(2, 2)\n",
    "clayer2 = torch.nn.Linear(2, 2)\n",
    "softmax = torch.nn.Softmax(dim=1)\n",
    "model = torch.nn.Sequential(clayer1, qlayer, clayer2, softmax)\n",
    "\n",
    "opt = torch.optim.SGD(model.parameters(), lr=0.5)\n",
    "loss = torch.nn.L1Loss()"
   ]
  },
  {
   "cell_type": "code",
   "execution_count": 82,
   "id": "0ddb2fbd-b2d9-4fe5-9018-8258f40fad4d",
   "metadata": {},
   "outputs": [
    {
     "name": "stdout",
     "output_type": "stream",
     "text": [
      "Average loss over epoch 1: 0.4047\n",
      "Average loss over epoch 2: 0.2016\n",
      "Average loss over epoch 3: 0.1861\n",
      "Average loss over epoch 4: 0.1664\n",
      "Average loss over epoch 5: 0.1796\n",
      "Average loss over epoch 6: 0.1562\n",
      "Average loss over epoch 7: 0.1596\n",
      "Average loss over epoch 8: 0.1535\n",
      "Average loss over epoch 9: 0.1568\n",
      "Average loss over epoch 10: 0.1367\n",
      "Average loss over epoch 11: 0.1426\n",
      "Average loss over epoch 12: 0.1443\n",
      "Average loss over epoch 13: 0.1319\n",
      "Average loss over epoch 14: 0.1407\n",
      "Average loss over epoch 15: 0.1397\n",
      "Average loss over epoch 16: 0.1324\n",
      "Average loss over epoch 17: 0.1551\n",
      "Average loss over epoch 18: 0.1572\n",
      "Average loss over epoch 19: 0.1225\n",
      "Average loss over epoch 20: 0.1638\n",
      "Accuracy: 86.0%\n"
     ]
    }
   ],
   "source": [
    "### Train the model\n",
    "\n",
    "epochs = 20\n",
    "batch_size = 5\n",
    "batches = 200 // batch_size\n",
    "\n",
    "data_loader = torch.utils.data.DataLoader(\n",
    "    list(zip(X, y_hot)), batch_size=5, shuffle=True, drop_last=True\n",
    ")\n",
    "\n",
    "for epoch in range(epochs):\n",
    "\n",
    "    running_loss = 0\n",
    "\n",
    "    for xb, yb in data_loader:\n",
    "        opt.zero_grad()\n",
    "\n",
    "        loss_evaluated = loss(model(xb), yb)\n",
    "        loss_evaluated.backward()\n",
    "\n",
    "        opt.step()\n",
    "\n",
    "        running_loss += loss_evaluated\n",
    "\n",
    "    avg_loss = running_loss / batches\n",
    "    print(\"Average loss over epoch {}: {:.4f}\".format(epoch + 1, avg_loss))\n",
    "\n",
    "y_pred = model(X)\n",
    "predictions = torch.argmax(y_pred, axis=1).detach().numpy()\n",
    "\n",
    "correct = [1 if p == p_true else 0 for p, p_true in zip(predictions, y)]\n",
    "accuracy = sum(correct) / len(correct)\n",
    "print(f\"Accuracy: {accuracy * 100}%\")"
   ]
  },
  {
   "cell_type": "markdown",
   "id": "3f64a53e-7117-4790-9072-63d9fab1e5b7",
   "metadata": {},
   "source": [
    "## Software used\n",
    "*JAX will complain about os.fork used in executing the command*"
   ]
  },
  {
   "cell_type": "code",
   "execution_count": 22,
   "id": "dc487c01-9912-486c-9524-8a210f392a92",
   "metadata": {},
   "outputs": [
    {
     "name": "stdout",
     "output_type": "stream",
     "text": [
      "jax                       0.4.28\n",
      "jax-cuda12-pjrt           0.4.28\n",
      "jax-cuda12-plugin         0.4.28\n",
      "jaxlib                    0.4.28\n",
      "PennyLane                 0.36.0\n",
      "PennyLane_Lightning       0.36.0\n",
      "PennyLane_Lightning_GPU   0.36.0\n",
      "PennyLane-Rigetti         0.36.0\n",
      "torch                     2.3.1+cu121\n",
      "torchaudio                2.3.1+cu121\n",
      "torchsummary              1.5.1\n",
      "torchvision               0.18.1+cu121\n"
     ]
    }
   ],
   "source": [
    "!pip list | grep -e PennyLane -e torch -e jax"
   ]
  }
 ],
 "metadata": {
  "kernelspec": {
   "display_name": "Python 3 (ipykernel)",
   "language": "python",
   "name": "python3"
  },
  "language_info": {
   "codemirror_mode": {
    "name": "ipython",
    "version": 3
   },
   "file_extension": ".py",
   "mimetype": "text/x-python",
   "name": "python",
   "nbconvert_exporter": "python",
   "pygments_lexer": "ipython3",
   "version": "3.11.9"
  }
 },
 "nbformat": 4,
 "nbformat_minor": 5
}
