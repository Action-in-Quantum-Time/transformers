{
 "cells": [
  {
   "cell_type": "markdown",
   "id": "57ba42ad-9f79-42c4-8bf0-5658eb2f260e",
   "metadata": {},
   "source": [
    "# Timeseries Performance Metrics\n",
    "*TS utilities in Qiskit*\n",
    "\n",
    "By: Jacob Cybulski<br>\n",
    "Date: August 2023 - March 2024<br>\n",
    "Aims: The goal of this notebook is to test TS performance metrics utilities."
   ]
  },
  {
   "cell_type": "code",
   "execution_count": 1,
   "id": "3511010f-2b7b-4ef1-898d-654c352892b5",
   "metadata": {},
   "outputs": [
    {
     "data": {
      "text/html": [
       "<style>\n",
       "table {float:left}\n",
       "</style>\n"
      ],
      "text/plain": [
       "<IPython.core.display.HTML object>"
      ]
     },
     "metadata": {},
     "output_type": "display_data"
    }
   ],
   "source": [
    "%%html\n",
    "<style>\n",
    "table {float:left}\n",
    "</style>"
   ]
  },
  {
   "cell_type": "code",
   "execution_count": 2,
   "id": "24546ecf-76e4-444a-9a05-542ffc6a73d4",
   "metadata": {},
   "outputs": [
    {
     "data": {
      "text/plain": [
       "['/home/jacob/Dropbox/Dev/Python/quantum_projects/ts/ts_qae_sidekick/utils',\n",
       " '/home/jacob/miniconda3/envs/qiskit-gpu/lib/python310.zip',\n",
       " '/home/jacob/miniconda3/envs/qiskit-gpu/lib/python3.10',\n",
       " '/home/jacob/miniconda3/envs/qiskit-gpu/lib/python3.10/lib-dynload',\n",
       " '',\n",
       " '/home/jacob/miniconda3/envs/qiskit-gpu/lib/python3.10/site-packages',\n",
       " '.',\n",
       " '..']"
      ]
     },
     "execution_count": 2,
     "metadata": {},
     "output_type": "execute_result"
    }
   ],
   "source": [
    "import sys\n",
    "sys.path.append('.')\n",
    "sys.path.append('..')\n",
    "sys.path"
   ]
  },
  {
   "cell_type": "code",
   "execution_count": 3,
   "id": "64fc6f60-0201-4f88-bc18-b006400f0f2c",
   "metadata": {},
   "outputs": [],
   "source": [
    "import matplotlib.pyplot as plt\n",
    "import numpy as np\n",
    "import pylab\n",
    "import math\n",
    "from IPython.display import clear_output\n",
    "%matplotlib inline\n",
    "\n",
    "from utils.Metrics import *"
   ]
  },
  {
   "cell_type": "code",
   "execution_count": 4,
   "id": "e5d8668e-64f2-43ff-96af-2c9fd50a3d0e",
   "metadata": {},
   "outputs": [
    {
     "name": "stdout",
     "output_type": "stream",
     "text": [
      "\n",
      "Testing merged_tswind\n",
      "\tOriginal dict: {2: [2, 5, 9, 20, 21], 5: [5, 8, 9, 10, 11], 1: [1, 2, 3, 4, 5], 3: [3, 9, 11, 12, 13]}\n",
      "\tMerged dict: [1, 2, 3, 4, 5, 2, 5, 9, 20, 21, 3, 9, 11, 12, 13, 5, 8, 9, 10, 11]\n",
      "\tMerged trim 2 left: [3, 4, 5, 9, 20, 21, 11, 12, 13, 9, 10, 11]\n",
      "\tMerged trim 1 right: [1, 2, 3, 4, 2, 5, 9, 20, 3, 9, 11, 12, 5, 8, 9, 10]\n",
      "\tMerged trim 2 left and 1 right: [3, 4, 9, 20, 11, 12, 9, 10]\n",
      "\tMerged trim 3 left and 3 right: []\n",
      "\n",
      "\n",
      "Testing metrics\n",
      "\tRMS: 1.0\n",
      "\tMAE: 1.0\n",
      "\tMAPE: 0.22573468198468194\n",
      "\tR2: 0.9662475740443844\n",
      "\n"
     ]
    }
   ],
   "source": [
    "### Sample data\n",
    "tsw_exp = {}\n",
    "tsw_exp[2] = [2, 5, 9, 20, 21]\n",
    "tsw_exp[5] = [5, 8, 9, 10, 11]\n",
    "tsw_exp[1] = [1, 2, 3, 4, 5]\n",
    "tsw_exp[3] = [3, 9, 11, 12, 13]\n",
    "\n",
    "tsw_pred = {}\n",
    "tsw_pred[2] = [3, 6, 10, 21, 20]\n",
    "tsw_pred[5] = [6, 9, 10, 11, 12]\n",
    "tsw_pred[1] = [2, 3, 4, 5, 4]\n",
    "tsw_pred[3] = [4, 10, 12, 13, 14]\n",
    "\n",
    "### Testing merge_tswind\n",
    "#   Note that every window will be trimmed before merging\n",
    "print('\\nTesting merged_tswind')\n",
    "print(f'\\tOriginal dict: {tsw_exp}')\n",
    "print(f'\\tMerged dict: {merged_tswind(tsw_exp)}')\n",
    "print(f'\\tMerged trim 2 left: {merged_tswind(tsw_exp, trim_left=2)}')\n",
    "print(f'\\tMerged trim 1 right: {merged_tswind(tsw_exp, trim_right=1)}')\n",
    "print(f'\\tMerged trim 2 left and 1 right: {merged_tswind(tsw_exp, trim_left=2, trim_right=1)}')\n",
    "print(f'\\tMerged trim 3 left and 3 right: {merged_tswind(tsw_exp, trim_left=3, trim_right=3)}')\n",
    "print()\n",
    "\n",
    "### Testing metrics\n",
    "print('\\nTesting metrics')\n",
    "print(f'\\tRMS: {rms_tswin(tsw_exp, tsw_pred)}')\n",
    "print(f'\\tMAE: {mae_tswin(tsw_exp, tsw_pred)}')\n",
    "print(f'\\tMAPE: {mape_tswin(tsw_exp, tsw_pred)}')\n",
    "print(f'\\tR2: {r2_tswin(tsw_exp, tsw_pred)}\\n')"
   ]
  },
  {
   "cell_type": "code",
   "execution_count": 5,
   "id": "2ca1e5ff-fe49-4730-910b-48710ac93d43",
   "metadata": {},
   "outputs": [
    {
     "name": "stdout",
     "output_type": "stream",
     "text": [
      "qiskit                        0.45.2\n",
      "qiskit-aer-gpu                0.13.2\n",
      "qiskit-algorithms             0.2.2\n",
      "qiskit-dynamics               0.4.3\n",
      "qiskit-finance                0.4.0\n",
      "qiskit-ibm-provider           0.6.3\n",
      "qiskit-ibm-runtime            0.11.3\n",
      "qiskit-ibmq-provider          0.20.2\n",
      "qiskit-machine-learning       0.7.1\n",
      "qiskit-nature                 0.7.1\n",
      "qiskit-optimization           0.6.0\n",
      "qiskit-qasm3-import           0.4.1\n",
      "qiskit-sphinx-theme           1.12.1\n",
      "qiskit-terra                  0.45.2\n"
     ]
    }
   ],
   "source": [
    "!pip list | grep -e qiskit"
   ]
  }
 ],
 "metadata": {
  "kernelspec": {
   "display_name": "Python 3 (ipykernel)",
   "language": "python",
   "name": "python3"
  },
  "language_info": {
   "codemirror_mode": {
    "name": "ipython",
    "version": 3
   },
   "file_extension": ".py",
   "mimetype": "text/x-python",
   "name": "python",
   "nbconvert_exporter": "python",
   "pygments_lexer": "ipython3",
   "version": "3.10.13"
  }
 },
 "nbformat": 4,
 "nbformat_minor": 5
}
