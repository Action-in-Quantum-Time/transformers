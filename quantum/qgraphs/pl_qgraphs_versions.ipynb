{
 "cells": [
  {
   "cell_type": "markdown",
   "id": "92426396-bb03-451f-89db-5f44073ebaeb",
   "metadata": {},
   "source": [
    "# QGraphs Data - Versions"
   ]
  },
  {
   "cell_type": "markdown",
   "id": "a2ce99e6-c25f-48a6-bafb-77edf19bc4cb",
   "metadata": {},
   "source": [
    "*pl_qgraphs:* Commenced work on *QGraphs (QG)*\n",
    "- **V1_00 (240808)** Initial graph representation in *networkx*<br/>\n",
    "  Added an extra vertex for redirection from stop vertices\n",
    "- **V1_01 (240814)** Added mathematical formulation\n",
    "- **V1_02 (240816)** Changed representation and maths<br/>\n",
    "  Added loops for redirection from stop vertices\n",
    "- **V1_03 (240824)** Initial work on graph training in *PennyLane*\n",
    "- **V1_04 (240828)** Added KL and JSD loss/cost functions\n",
    "- **V1_05 (240901)** Notebook split into data and training parts<br/>\n",
    "  As the code was getting very long, it was split into data prep and model training\n",
    "\n",
    "*pl_qgraphs_data:* Digraph generation\n",
    "- **V1_05 (240901)** Generation of an 8 vertices graphs\n",
    "- **V1_06 (240909)** Generation of a 16 vertices graphs\n",
    "- **V1_07 (240909)** Change of the log file naming conventions\n",
    "- **V1_10 (240911)** utils.Digraph.py plots save eps image, logs are created to save data \n",
    "\n",
    "*pl_qgraphs_train:* QGraph model creation and training\n",
    "- **V1_05 (240901)** Added QG model creation, started training\n",
    "- **V1_06 (240908)** Need to recode QG input, from a single n to its binary representation\n",
    "- **V1_07 (240909)** Fixed classical and hybrid modes, improved performance, esp. with JSD\n",
    "- **V1_08 (240909)** Larger graph tested, code slightly reorganised\n",
    "- **V1_09 (240909)** Testing different modes: quantum, classic and hybrid\n",
    "- **V1_10 (240911)** Fixed classic model with JSD by adding softmax\n",
    "- **V1_11 (240912)** Included side-by-side comparison of the expected vs observed weight distributions\n",
    "- **V1_12 (241219)** Added several performance scores\n",
    "- **V1_13 (241219)** **Current** Logs are incorporated to save graph definitions and performance data"
   ]
  },
  {
   "cell_type": "markdown",
   "id": "403bec1a-13a8-40e8-bb51-c7650afc4e44",
   "metadata": {},
   "source": [
    "## System"
   ]
  },
  {
   "cell_type": "code",
   "execution_count": 1,
   "id": "bdd995cd-9bec-4d8d-b1ea-de0634b026e9",
   "metadata": {},
   "outputs": [
    {
     "name": "stdout",
     "output_type": "stream",
     "text": [
      "networkx                  3.4.2\n",
      "PennyLane                 0.39.0\n",
      "PennyLane_Lightning       0.39.0\n",
      "torch                     2.5.1+cpu\n",
      "torchaudio                2.5.1+cpu\n",
      "torcheval                 0.0.7\n",
      "torchvision               0.20.1+cpu\n"
     ]
    }
   ],
   "source": [
    "!pip list | grep -e torch -e PennyLane -e networkx"
   ]
  }
 ],
 "metadata": {
  "kernelspec": {
   "display_name": "Python 3 (ipykernel)",
   "language": "python",
   "name": "python3"
  },
  "language_info": {
   "codemirror_mode": {
    "name": "ipython",
    "version": 3
   },
   "file_extension": ".py",
   "mimetype": "text/x-python",
   "name": "python",
   "nbconvert_exporter": "python",
   "pygments_lexer": "ipython3",
   "version": "3.11.11"
  },
  "widgets": {
   "application/vnd.jupyter.widget-state+json": {
    "state": {},
    "version_major": 2,
    "version_minor": 0
   }
  }
 },
 "nbformat": 4,
 "nbformat_minor": 5
}
