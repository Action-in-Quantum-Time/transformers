{
 "cells": [
  {
   "cell_type": "markdown",
   "id": "b6028e05-1ece-4fd7-907c-4070675cca31",
   "metadata": {},
   "source": [
    "# Timeseries Cost\n",
    "*TS utilities in Qiskit*\n",
    "\n",
    "By: Jacob Cybulski<br>\n",
    "Date: August 2023 - April 2024<br>\n",
    "Aims: The goal of this notebook is to test some of the QuTSAE cost related calculations."
   ]
  },
  {
   "cell_type": "markdown",
   "id": "9a6219e5-1e55-45ba-950f-df9c7b4fa099",
   "metadata": {},
   "source": [
    "## Initial settings"
   ]
  },
  {
   "cell_type": "code",
   "execution_count": 1,
   "id": "f8b757db-53de-4f01-80bf-35418454d829",
   "metadata": {},
   "outputs": [
    {
     "data": {
      "text/plain": [
       "['/home/jacob/Dropbox/Dev/Python/quantum_projects/ts/ts_denoise/utils',\n",
       " '/home/jacob/miniconda3/envs/qiskit-gpu/lib/python310.zip',\n",
       " '/home/jacob/miniconda3/envs/qiskit-gpu/lib/python3.10',\n",
       " '/home/jacob/miniconda3/envs/qiskit-gpu/lib/python3.10/lib-dynload',\n",
       " '',\n",
       " '/home/jacob/miniconda3/envs/qiskit-gpu/lib/python3.10/site-packages',\n",
       " '.',\n",
       " '..']"
      ]
     },
     "execution_count": 1,
     "metadata": {},
     "output_type": "execute_result"
    }
   ],
   "source": [
    "import sys\n",
    "sys.path.append('.')\n",
    "sys.path.append('..')\n",
    "sys.path"
   ]
  },
  {
   "cell_type": "code",
   "execution_count": 3,
   "id": "81c7c012-65ce-4770-8590-bd01d4abae7b",
   "metadata": {},
   "outputs": [],
   "source": [
    "import matplotlib.pyplot as plt\n",
    "import numpy as np\n",
    "import pylab\n",
    "import math\n",
    "from IPython.display import clear_output\n",
    "\n",
    "# from utils.Target import *\n",
    "# from utils.Window import *\n",
    "# from utils.Callback import *\n",
    "# from utils.TS import *\n",
    "# from utils.Charts import *\n",
    "# from utils.Integrate import *\n",
    "# from utils.Circuits import *\n",
    "# from utils.Angles import *\n",
    "# from utils.Files import *\n",
    "from utils.Cost import *\n",
    "# from utils.Metrics import *\n",
    "\n",
    "from matplotlib import set_loglevel\n",
    "set_loglevel(\"error\")\n",
    "\n",
    "%matplotlib inline"
   ]
  },
  {
   "cell_type": "markdown",
   "id": "1b3642f3-2560-4431-8d74-9fd832a38a9e",
   "metadata": {},
   "source": [
    "## Measuring the states of single qubits in a circuit (in terms of its y angle)\n",
    "Functions \"single_qubit_angle_meas\" and \"multi_qubit_angle_meas\" are defined in utils.Cost.<br/>\n",
    "Recall that the value returned is in relation to the H state, which is zero,<br/>\n",
    "with rotations to the left interpretaed as negative values, and rotatations to the right as positive values."
   ]
  },
  {
   "cell_type": "code",
   "execution_count": 5,
   "id": "6c41d4b7-00ac-445c-a93c-0f1abf9ab5c3",
   "metadata": {},
   "outputs": [],
   "source": [
    "from qiskit_aer.backends import AerSimulator\n",
    "from qiskit import Aer, execute\n",
    "# noise_model = NoiseModel.from_backend(backend)\n",
    "seed = 2024\n",
    "backend = AerSimulator(method='statevector')\n",
    "backend.set_option('device', 'CPU')\n",
    "backend.set_option('seed_simulator', seed)\n",
    "backend.set_option('cuStateVec_enable', True)"
   ]
  },
  {
   "cell_type": "code",
   "execution_count": 6,
   "id": "9833da77-4d68-4d0d-b78f-5f5884ba2331",
   "metadata": {},
   "outputs": [
    {
     "name": "stdout",
     "output_type": "stream",
     "text": [
      "Result of mapping a circuit state to\n",
      "individual qubit states:\n",
      "\n",
      "\t [0.54 0.53 0.6  0.35] \n",
      "\n"
     ]
    },
    {
     "data": {
      "text/plain": [
       "array([[0.  , 0.  , 0.  , 0.  , 0.01],\n",
       "       [0.  , 0.  , 0.  , 1.  , 0.02],\n",
       "       [0.  , 0.  , 1.  , 0.  , 0.3 ],\n",
       "       [0.  , 0.  , 1.  , 1.  , 0.  ],\n",
       "       [0.  , 1.  , 0.  , 0.  , 0.03],\n",
       "       [0.  , 1.  , 0.  , 1.  , 0.  ],\n",
       "       [0.  , 1.  , 1.  , 0.  , 0.1 ],\n",
       "       [0.  , 1.  , 1.  , 1.  , 0.  ],\n",
       "       [1.  , 0.  , 0.  , 0.  , 0.04],\n",
       "       [1.  , 0.  , 0.  , 1.  , 0.  ],\n",
       "       [1.  , 0.  , 1.  , 0.  , 0.05],\n",
       "       [1.  , 0.  , 1.  , 1.  , 0.05],\n",
       "       [1.  , 1.  , 0.  , 0.  , 0.1 ],\n",
       "       [1.  , 1.  , 0.  , 1.  , 0.2 ],\n",
       "       [1.  , 1.  , 1.  , 0.  , 0.02],\n",
       "       [1.  , 1.  , 1.  , 1.  , 0.08]])"
      ]
     },
     "execution_count": 6,
     "metadata": {},
     "output_type": "execute_result"
    }
   ],
   "source": [
    "### Testing cprobs_to_qprobs\n",
    "probs1 = [0.1, 0.05, 0.05, 0.3, 0.2, 0.1, 0.2, 0.0]\n",
    "probs2 = [0.01, 0.02, 0.3, 0, 0.03, 0, 0.1, 0, 0.04, 0, 0.05, 0.05, 0.1, 0.2, 0.02, 0.08]\n",
    "\n",
    "res = cprobs_to_qprobs(probs2)\n",
    "print('Result of mapping a circuit state to\\nindividual qubit states:\\n\\n\\t', res, '\\n')\n",
    "\n",
    "report_c2p(probs2)"
   ]
  },
  {
   "cell_type": "code",
   "execution_count": 7,
   "id": "4c477e77-4876-4476-a641-11371a2f1100",
   "metadata": {},
   "outputs": [
    {
     "data": {
      "text/html": [
       "<pre style=\"word-wrap: normal;white-space: pre;background: #fff0;line-height: 1.1;font-family: &quot;Courier New&quot;,Courier,monospace\">     ┌─────────┐  statevector ┌─┐\n",
       "q_0: ┤ Ry(π/6) ├───────░──────┤M├\n",
       "     ├─────────┴┐      ░      └╥┘\n",
       "q_1: ┤ Ry(-π/4) ├──────░───────╫─\n",
       "     ├─────────┬┘      ░       ║ \n",
       "q_2: ┤ Ry(π/3) ├───────░───────╫─\n",
       "     └─────────┘       ░       ║ \n",
       "c: 1/══════════════════════════╩═\n",
       "                               0 </pre>"
      ],
      "text/plain": [
       "     ┌─────────┐  statevector ┌─┐\n",
       "q_0: ┤ Ry(π/6) ├───────░──────┤M├\n",
       "     ├─────────┴┐      ░      └╥┘\n",
       "q_1: ┤ Ry(-π/4) ├──────░───────╫─\n",
       "     ├─────────┬┘      ░       ║ \n",
       "q_2: ┤ Ry(π/3) ├───────░───────╫─\n",
       "     └─────────┘       ░       ║ \n",
       "c: 1/══════════════════════════╩═\n",
       "                               0 "
      ]
     },
     "metadata": {},
     "output_type": "display_data"
    },
    {
     "data": {
      "text/html": [
       "<pre style=\"word-wrap: normal;white-space: pre;background: #fff0;line-height: 1.1;font-family: &quot;Courier New&quot;,Courier,monospace\">     ┌─────────┐  statevector    \n",
       "q_0: ┤ Ry(π/6) ├───────░─────────\n",
       "     ├─────────┴┐      ░      ┌─┐\n",
       "q_1: ┤ Ry(-π/4) ├──────░──────┤M├\n",
       "     ├─────────┬┘      ░      └╥┘\n",
       "q_2: ┤ Ry(π/3) ├───────░───────╫─\n",
       "     └─────────┘       ░       ║ \n",
       "c: 1/══════════════════════════╩═\n",
       "                               0 </pre>"
      ],
      "text/plain": [
       "     ┌─────────┐  statevector    \n",
       "q_0: ┤ Ry(π/6) ├───────░─────────\n",
       "     ├─────────┴┐      ░      ┌─┐\n",
       "q_1: ┤ Ry(-π/4) ├──────░──────┤M├\n",
       "     ├─────────┬┘      ░      └╥┘\n",
       "q_2: ┤ Ry(π/3) ├───────░───────╫─\n",
       "     └─────────┘       ░       ║ \n",
       "c: 1/══════════════════════════╩═\n",
       "                               0 "
      ]
     },
     "metadata": {},
     "output_type": "display_data"
    },
    {
     "data": {
      "text/html": [
       "<pre style=\"word-wrap: normal;white-space: pre;background: #fff0;line-height: 1.1;font-family: &quot;Courier New&quot;,Courier,monospace\">     ┌─────────┐  statevector    \n",
       "q_0: ┤ Ry(π/6) ├───────░─────────\n",
       "     ├─────────┴┐      ░         \n",
       "q_1: ┤ Ry(-π/4) ├──────░─────────\n",
       "     ├─────────┬┘      ░      ┌─┐\n",
       "q_2: ┤ Ry(π/3) ├───────░──────┤M├\n",
       "     └─────────┘       ░      └╥┘\n",
       "c: 1/══════════════════════════╩═\n",
       "                               0 </pre>"
      ],
      "text/plain": [
       "     ┌─────────┐  statevector    \n",
       "q_0: ┤ Ry(π/6) ├───────░─────────\n",
       "     ├─────────┴┐      ░         \n",
       "q_1: ┤ Ry(-π/4) ├──────░─────────\n",
       "     ├─────────┬┘      ░      ┌─┐\n",
       "q_2: ┤ Ry(π/3) ├───────░──────┤M├\n",
       "     └─────────┘       ░      └╥┘\n",
       "c: 1/══════════════════════════╩═\n",
       "                               0 "
      ]
     },
     "metadata": {},
     "output_type": "display_data"
    },
    {
     "name": "stdout",
     "output_type": "stream",
     "text": [
      "Q meas: [-1.0046979448455693, -0.783834160846974, -0.5351847902755997]\n",
      "Probs: [0.922, 0.853, 0.755]\n",
      "Elapsed time: 0.006272077560424805\n"
     ]
    }
   ],
   "source": [
    "### Testing single_qubit_angle_meas\n",
    "\n",
    "from qiskit import QuantumRegister, ClassicalRegister, QuantumCircuit\n",
    "from qiskit.quantum_info import Statevector\n",
    "from qiskit.visualization import plot_histogram\n",
    "\n",
    "start = time.time()\n",
    "q_meas =[]\n",
    "q_ps = []\n",
    "for q in range(3):\n",
    "    qr = QuantumRegister(3, 'q')\n",
    "    anc = QuantumRegister(1, 'ancilla')\n",
    "    cr = ClassicalRegister(1, 'c')\n",
    "    qc = QuantumCircuit(qr, cr)\n",
    "\n",
    "    qc.ry(np.pi/6, 0)\n",
    "    qc.ry(-np.pi/4, 1)\n",
    "    qc.ry(np.pi/3, 2)\n",
    "    qc.save_statevector()\n",
    "    qc.measure(q, cr)\n",
    "\n",
    "    display(qc.draw())\n",
    "\n",
    "    ma, p0 = single_qubit_angle_meas(qc, backend, shots=1000)\n",
    "    q_meas.append(ma) \n",
    "    q_ps.append(p0)\n",
    "\n",
    "elapsed = time.time() - start\n",
    "\n",
    "print('Q meas:', q_meas)\n",
    "print('Probs:', q_ps)\n",
    "print('Elapsed time:', elapsed)"
   ]
  },
  {
   "cell_type": "code",
   "execution_count": 8,
   "id": "35e8d980-1835-40f2-8147-ac8ff2557b56",
   "metadata": {},
   "outputs": [
    {
     "data": {
      "text/html": [
       "<pre style=\"word-wrap: normal;white-space: pre;background: #fff0;line-height: 1.1;font-family: &quot;Courier New&quot;,Courier,monospace\">     ┌─────────┐  statevector ┌─┐      \n",
       "q_0: ┤ Ry(π/6) ├───────░──────┤M├──────\n",
       "     ├─────────┴┐      ░      └╥┘┌─┐   \n",
       "q_1: ┤ Ry(-π/4) ├──────░───────╫─┤M├───\n",
       "     ├─────────┬┘      ░       ║ └╥┘┌─┐\n",
       "q_2: ┤ Ry(π/3) ├───────░───────╫──╫─┤M├\n",
       "     └─────────┘       ░       ║  ║ └╥┘\n",
       "c: 3/══════════════════════════╩══╩══╩═\n",
       "                               0  1  2 </pre>"
      ],
      "text/plain": [
       "     ┌─────────┐  statevector ┌─┐      \n",
       "q_0: ┤ Ry(π/6) ├───────░──────┤M├──────\n",
       "     ├─────────┴┐      ░      └╥┘┌─┐   \n",
       "q_1: ┤ Ry(-π/4) ├──────░───────╫─┤M├───\n",
       "     ├─────────┬┘      ░       ║ └╥┘┌─┐\n",
       "q_2: ┤ Ry(π/3) ├───────░───────╫──╫─┤M├\n",
       "     └─────────┘       ░       ║  ║ └╥┘\n",
       "c: 3/══════════════════════════╩══╩══╩═\n",
       "                               0  1  2 "
      ]
     },
     "metadata": {},
     "output_type": "display_data"
    },
    {
     "name": "stdout",
     "output_type": "stream",
     "text": [
      "Q meas: [-1.0471975511965979, -0.7853981633974482, -0.5235987755982987]\n",
      "Probs: [0.9330127018922193, 0.8535533905932737, 0.75]\n",
      "Elapsed time: 0.006639242172241211\n"
     ]
    }
   ],
   "source": [
    "### Testing multi_qubit_angle_meas\n",
    "\n",
    "from qiskit import QuantumRegister, ClassicalRegister, QuantumCircuit\n",
    "from qiskit.quantum_info import Statevector\n",
    "from qiskit.visualization import plot_histogram\n",
    "\n",
    "start = time.time()\n",
    "\n",
    "qr = QuantumRegister(3, 'q')\n",
    "cr = ClassicalRegister(3, 'c')\n",
    "qc = QuantumCircuit(qr, cr)\n",
    " \n",
    "qc.ry(np.pi/6, 0)\n",
    "qc.ry(-np.pi/4, 1)\n",
    "qc.ry(np.pi/3, 2)\n",
    "# qc.cx(0, 1)\n",
    "# qc.cx(1, 2)\n",
    "qc.save_statevector()\n",
    "qc.measure(qr, cr)\n",
    "display(qc.draw())\n",
    "\n",
    "q_meas, probs = multi_qubit_angle_meas(qc, backend=backend, shots=1)\n",
    "\n",
    "elapsed = time.time() - start\n",
    "\n",
    "print('Q meas:', q_meas)\n",
    "print('Probs:', probs)\n",
    "print('Elapsed time:', elapsed)"
   ]
  },
  {
   "cell_type": "markdown",
   "id": "59f75e2e-75b0-46ad-9afe-f3392bb80439",
   "metadata": {},
   "source": [
    "## System in use"
   ]
  },
  {
   "cell_type": "code",
   "execution_count": 9,
   "id": "2c30826c-07b4-4e4e-8ed5-a1a0f2391acb",
   "metadata": {},
   "outputs": [
    {
     "name": "stdout",
     "output_type": "stream",
     "text": [
      "qiskit                        0.45.2\n",
      "qiskit-aer-gpu                0.13.2\n",
      "qiskit-algorithms             0.2.2\n",
      "qiskit-dynamics               0.4.3\n",
      "qiskit-finance                0.4.0\n",
      "qiskit-ibm-provider           0.6.3\n",
      "qiskit-ibm-runtime            0.11.3\n",
      "qiskit-ibmq-provider          0.20.2\n",
      "qiskit-machine-learning       0.7.1\n",
      "qiskit-nature                 0.7.1\n",
      "qiskit-optimization           0.6.0\n",
      "qiskit-qasm3-import           0.4.1\n",
      "qiskit-sphinx-theme           1.12.1\n",
      "qiskit-terra                  0.45.2\n",
      "torch                         2.1.0\n",
      "torchaudio                    2.1.0\n",
      "torchsummary                  1.5.1\n",
      "torchvision                   0.16.0\n",
      "torchviz                      0.0.2\n"
     ]
    }
   ],
   "source": [
    "!pip list | grep -e torch -e qiskit"
   ]
  }
 ],
 "metadata": {
  "kernelspec": {
   "display_name": "Python 3 (ipykernel)",
   "language": "python",
   "name": "python3"
  },
  "language_info": {
   "codemirror_mode": {
    "name": "ipython",
    "version": 3
   },
   "file_extension": ".py",
   "mimetype": "text/x-python",
   "name": "python",
   "nbconvert_exporter": "python",
   "pygments_lexer": "ipython3",
   "version": "3.10.14"
  }
 },
 "nbformat": 4,
 "nbformat_minor": 5
}
